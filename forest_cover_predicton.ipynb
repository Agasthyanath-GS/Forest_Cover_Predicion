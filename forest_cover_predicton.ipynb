{
 "cells": [
  {
   "cell_type": "markdown",
   "metadata": {},
   "source": [
    "# FOREST COVER PREDICTION"
   ]
  },
  {
   "cell_type": "markdown",
   "metadata": {},
   "source": [
    "## Import necessory packages"
   ]
  },
  {
   "cell_type": "code",
   "execution_count": 187,
   "metadata": {},
   "outputs": [],
   "source": [
    "import warnings\n",
    "import numpy as np\n",
    "import pandas as pd\n",
    "from collections import Counter \n",
    "from sklearn.feature_selection import VarianceThreshold\n",
    "from sklearn.preprocessing import StandardScaler\n",
    "from sklearn.decomposition import PCA\n",
    "from sklearn.model_selection import train_test_split\n",
    "from xgboost import XGBClassifier\n",
    "from sklearn.metrics import accuracy_score,confusion_matrix\n",
    "from scipy import stats\n",
    "from sklearn.model_selection import cross_val_score\n",
    "from sklearn.svm import SVC\n",
    "from sklearn.ensemble import RandomForestClassifier\n",
    "from sklearn.model_selection import GridSearchCV\n",
    "import seaborn as sb\n"
   ]
  },
  {
   "cell_type": "code",
   "execution_count": 3,
   "metadata": {},
   "outputs": [],
   "source": [
    "#to remove warnings\n",
    "warnings.simplefilter(\"ignore\")"
   ]
  },
  {
   "cell_type": "code",
   "execution_count": 4,
   "metadata": {},
   "outputs": [],
   "source": [
    "#collecting data from file\n",
    "data = pd.read_csv(\"train.csv\")"
   ]
  },
  {
   "cell_type": "markdown",
   "metadata": {},
   "source": [
    "## Simple EDA checks"
   ]
  },
  {
   "cell_type": "markdown",
   "metadata": {},
   "source": [
    "### 1.check the data is readed correctly or not"
   ]
  },
  {
   "cell_type": "code",
   "execution_count": 76,
   "metadata": {},
   "outputs": [
    {
     "data": {
      "text/html": [
       "<div>\n",
       "<style scoped>\n",
       "    .dataframe tbody tr th:only-of-type {\n",
       "        vertical-align: middle;\n",
       "    }\n",
       "\n",
       "    .dataframe tbody tr th {\n",
       "        vertical-align: top;\n",
       "    }\n",
       "\n",
       "    .dataframe thead th {\n",
       "        text-align: right;\n",
       "    }\n",
       "</style>\n",
       "<table border=\"1\" class=\"dataframe\">\n",
       "  <thead>\n",
       "    <tr style=\"text-align: right;\">\n",
       "      <th></th>\n",
       "      <th>Id</th>\n",
       "      <th>Elevation</th>\n",
       "      <th>Aspect</th>\n",
       "      <th>Slope</th>\n",
       "      <th>Horizontal_Distance_To_Hydrology</th>\n",
       "      <th>Vertical_Distance_To_Hydrology</th>\n",
       "      <th>Horizontal_Distance_To_Roadways</th>\n",
       "      <th>Hillshade_9am</th>\n",
       "      <th>Hillshade_Noon</th>\n",
       "      <th>Hillshade_3pm</th>\n",
       "      <th>...</th>\n",
       "      <th>Soil_Type32</th>\n",
       "      <th>Soil_Type33</th>\n",
       "      <th>Soil_Type34</th>\n",
       "      <th>Soil_Type35</th>\n",
       "      <th>Soil_Type36</th>\n",
       "      <th>Soil_Type37</th>\n",
       "      <th>Soil_Type38</th>\n",
       "      <th>Soil_Type39</th>\n",
       "      <th>Soil_Type40</th>\n",
       "      <th>Cover_Type</th>\n",
       "    </tr>\n",
       "  </thead>\n",
       "  <tbody>\n",
       "    <tr>\n",
       "      <th>0</th>\n",
       "      <td>1</td>\n",
       "      <td>2596</td>\n",
       "      <td>51</td>\n",
       "      <td>3</td>\n",
       "      <td>258</td>\n",
       "      <td>0</td>\n",
       "      <td>510</td>\n",
       "      <td>221</td>\n",
       "      <td>232</td>\n",
       "      <td>148</td>\n",
       "      <td>...</td>\n",
       "      <td>0</td>\n",
       "      <td>0</td>\n",
       "      <td>0</td>\n",
       "      <td>0</td>\n",
       "      <td>0</td>\n",
       "      <td>0</td>\n",
       "      <td>0</td>\n",
       "      <td>0</td>\n",
       "      <td>0</td>\n",
       "      <td>5</td>\n",
       "    </tr>\n",
       "    <tr>\n",
       "      <th>1</th>\n",
       "      <td>2</td>\n",
       "      <td>2590</td>\n",
       "      <td>56</td>\n",
       "      <td>2</td>\n",
       "      <td>212</td>\n",
       "      <td>-6</td>\n",
       "      <td>390</td>\n",
       "      <td>220</td>\n",
       "      <td>235</td>\n",
       "      <td>151</td>\n",
       "      <td>...</td>\n",
       "      <td>0</td>\n",
       "      <td>0</td>\n",
       "      <td>0</td>\n",
       "      <td>0</td>\n",
       "      <td>0</td>\n",
       "      <td>0</td>\n",
       "      <td>0</td>\n",
       "      <td>0</td>\n",
       "      <td>0</td>\n",
       "      <td>5</td>\n",
       "    </tr>\n",
       "    <tr>\n",
       "      <th>2</th>\n",
       "      <td>3</td>\n",
       "      <td>2804</td>\n",
       "      <td>139</td>\n",
       "      <td>9</td>\n",
       "      <td>268</td>\n",
       "      <td>65</td>\n",
       "      <td>3180</td>\n",
       "      <td>234</td>\n",
       "      <td>238</td>\n",
       "      <td>135</td>\n",
       "      <td>...</td>\n",
       "      <td>0</td>\n",
       "      <td>0</td>\n",
       "      <td>0</td>\n",
       "      <td>0</td>\n",
       "      <td>0</td>\n",
       "      <td>0</td>\n",
       "      <td>0</td>\n",
       "      <td>0</td>\n",
       "      <td>0</td>\n",
       "      <td>2</td>\n",
       "    </tr>\n",
       "    <tr>\n",
       "      <th>3</th>\n",
       "      <td>4</td>\n",
       "      <td>2785</td>\n",
       "      <td>155</td>\n",
       "      <td>18</td>\n",
       "      <td>242</td>\n",
       "      <td>118</td>\n",
       "      <td>3090</td>\n",
       "      <td>238</td>\n",
       "      <td>238</td>\n",
       "      <td>122</td>\n",
       "      <td>...</td>\n",
       "      <td>0</td>\n",
       "      <td>0</td>\n",
       "      <td>0</td>\n",
       "      <td>0</td>\n",
       "      <td>0</td>\n",
       "      <td>0</td>\n",
       "      <td>0</td>\n",
       "      <td>0</td>\n",
       "      <td>0</td>\n",
       "      <td>2</td>\n",
       "    </tr>\n",
       "    <tr>\n",
       "      <th>4</th>\n",
       "      <td>5</td>\n",
       "      <td>2595</td>\n",
       "      <td>45</td>\n",
       "      <td>2</td>\n",
       "      <td>153</td>\n",
       "      <td>-1</td>\n",
       "      <td>391</td>\n",
       "      <td>220</td>\n",
       "      <td>234</td>\n",
       "      <td>150</td>\n",
       "      <td>...</td>\n",
       "      <td>0</td>\n",
       "      <td>0</td>\n",
       "      <td>0</td>\n",
       "      <td>0</td>\n",
       "      <td>0</td>\n",
       "      <td>0</td>\n",
       "      <td>0</td>\n",
       "      <td>0</td>\n",
       "      <td>0</td>\n",
       "      <td>5</td>\n",
       "    </tr>\n",
       "  </tbody>\n",
       "</table>\n",
       "<p>5 rows × 56 columns</p>\n",
       "</div>"
      ],
      "text/plain": [
       "   Id  Elevation  Aspect  Slope  Horizontal_Distance_To_Hydrology  \\\n",
       "0   1       2596      51      3                               258   \n",
       "1   2       2590      56      2                               212   \n",
       "2   3       2804     139      9                               268   \n",
       "3   4       2785     155     18                               242   \n",
       "4   5       2595      45      2                               153   \n",
       "\n",
       "   Vertical_Distance_To_Hydrology  Horizontal_Distance_To_Roadways  \\\n",
       "0                               0                              510   \n",
       "1                              -6                              390   \n",
       "2                              65                             3180   \n",
       "3                             118                             3090   \n",
       "4                              -1                              391   \n",
       "\n",
       "   Hillshade_9am  Hillshade_Noon  Hillshade_3pm  ...  Soil_Type32  \\\n",
       "0            221             232            148  ...            0   \n",
       "1            220             235            151  ...            0   \n",
       "2            234             238            135  ...            0   \n",
       "3            238             238            122  ...            0   \n",
       "4            220             234            150  ...            0   \n",
       "\n",
       "   Soil_Type33  Soil_Type34  Soil_Type35  Soil_Type36  Soil_Type37  \\\n",
       "0            0            0            0            0            0   \n",
       "1            0            0            0            0            0   \n",
       "2            0            0            0            0            0   \n",
       "3            0            0            0            0            0   \n",
       "4            0            0            0            0            0   \n",
       "\n",
       "   Soil_Type38  Soil_Type39  Soil_Type40  Cover_Type  \n",
       "0            0            0            0           5  \n",
       "1            0            0            0           5  \n",
       "2            0            0            0           2  \n",
       "3            0            0            0           2  \n",
       "4            0            0            0           5  \n",
       "\n",
       "[5 rows x 56 columns]"
      ]
     },
     "execution_count": 76,
     "metadata": {},
     "output_type": "execute_result"
    }
   ],
   "source": [
    "data.head()"
   ]
  },
  {
   "cell_type": "markdown",
   "metadata": {},
   "source": [
    "### 2.checking for the data shape"
   ]
  },
  {
   "cell_type": "code",
   "execution_count": 77,
   "metadata": {},
   "outputs": [
    {
     "data": {
      "text/plain": [
       "(15120, 56)"
      ]
     },
     "execution_count": 77,
     "metadata": {},
     "output_type": "execute_result"
    }
   ],
   "source": [
    "data.shape"
   ]
  },
  {
   "cell_type": "markdown",
   "metadata": {},
   "source": [
    "### 3.check the data have any null value "
   ]
  },
  {
   "cell_type": "code",
   "execution_count": null,
   "metadata": {},
   "outputs": [],
   "source": [
    "data.isnull().sum()"
   ]
  },
  {
   "cell_type": "markdown",
   "metadata": {},
   "source": [
    "from the above we can see that there is no null values in the data set"
   ]
  },
  {
   "cell_type": "markdown",
   "metadata": {},
   "source": [
    "### 4.checking the data is balanced or not"
   ]
  },
  {
   "cell_type": "code",
   "execution_count": 188,
   "metadata": {},
   "outputs": [
    {
     "data": {
      "text/plain": [
       "<matplotlib.axes._subplots.AxesSubplot at 0x1faf167c220>"
      ]
     },
     "execution_count": 188,
     "metadata": {},
     "output_type": "execute_result"
    },
    {
     "data": {
      "image/png": "[encoded data removed]",
      "text/plain": [
       "<Figure size 432x288 with 1 Axes>"
      ]
     },
     "metadata": {
      "needs_background": "light"
     },
     "output_type": "display_data"
    }
   ],
   "source": [
    "sb.distplot(data.Cover_Type,kde=False,color=\"black\")"
   ]
  },
  {
   "cell_type": "markdown",
   "metadata": {},
   "source": [
    "from the above graph we can see that the data is equeally distributed. hence it is a balanced data set"
   ]
  },
  {
   "cell_type": "markdown",
   "metadata": {},
   "source": [
    "### 5.checking skewness and curtosis"
   ]
  },
  {
   "cell_type": "code",
   "execution_count": 189,
   "metadata": {
    "scrolled": true
   },
   "outputs": [
    {
     "name": "stdout",
     "output_type": "stream",
     "text": [
      "skew of covertype :  0.0\n",
      "kurtosis of Covertypestats :  -1.25\n"
     ]
    }
   ],
   "source": [
    "print(\"skew of covertype : \",stats.skew(data.Cover_Type))\n",
    "print(\"kurtosis of Covertypestats : \",stats.kurtosis(data.Cover_Type))"
   ]
  },
  {
   "cell_type": "markdown",
   "metadata": {},
   "source": [
    "our data output has a negative kurtosis"
   ]
  },
  {
   "cell_type": "markdown",
   "metadata": {},
   "source": [
    "### assigning X and Y values"
   ]
  },
  {
   "cell_type": "code",
   "execution_count": 9,
   "metadata": {},
   "outputs": [],
   "source": [
    "X = data.iloc[:,:-1]\n",
    "y = data.Cover_Type"
   ]
  },
  {
   "cell_type": "markdown",
   "metadata": {},
   "source": [
    "## 1.Droping features with no values\n"
   ]
  },
  {
   "cell_type": "code",
   "execution_count": 10,
   "metadata": {},
   "outputs": [
    {
     "name": "stdout",
     "output_type": "stream",
     "text": [
      "\n",
      "\n",
      "Dropped Coloms =  ['Soil_Type7', 'Soil_Type15']\n"
     ]
    }
   ],
   "source": [
    "columns = X.columns\n",
    "droped_columns = []\n",
    "for col_name in  columns:\n",
    "    mean = np.mean(X.loc[:,[col_name]])\n",
    "    if mean.any() == 0.0:\n",
    "        droped_columns.append(col_name)\n",
    "        X.drop(col_name,axis = 1,inplace = True)\n",
    "print(\"\\n\\nDropped Coloms = \",droped_columns)"
   ]
  },
  {
   "cell_type": "markdown",
   "metadata": {},
   "source": [
    "## 2.Findining Variance Threshold to drop features"
   ]
  },
  {
   "cell_type": "code",
   "execution_count": 11,
   "metadata": {},
   "outputs": [
    {
     "data": {
      "text/plain": [
       "VarianceThreshold(threshold=0.003)"
      ]
     },
     "execution_count": 11,
     "metadata": {},
     "output_type": "execute_result"
    }
   ],
   "source": [
    "# finding columns with low variance and droping those columns\n",
    "varience = VarianceThreshold(0.003)\n",
    "varience.fit(X)"
   ]
  },
  {
   "cell_type": "code",
   "execution_count": 12,
   "metadata": {},
   "outputs": [
    {
     "name": "stdout",
     "output_type": "stream",
     "text": [
      "[ True  True  True  True  True  True  True  True  True  True  True  True\n",
      "  True  True  True  True  True  True  True  True  True False False  True\n",
      "  True  True  True  True  True  True  True  True  True False  True  True\n",
      "  True False  True False False  True  True  True  True  True False  True\n",
      " False False  True  True  True]\n"
     ]
    }
   ],
   "source": [
    "var = varience.get_support()\n",
    "print(var)"
   ]
  },
  {
   "cell_type": "code",
   "execution_count": 13,
   "metadata": {},
   "outputs": [],
   "source": [
    "column_names= X.columns\n",
    "X_var = X.copy()"
   ]
  },
  {
   "cell_type": "code",
   "execution_count": 14,
   "metadata": {},
   "outputs": [
    {
     "name": "stdout",
     "output_type": "stream",
     "text": [
      "columns which has low varience : \n",
      "\n",
      " Index(['Soil_Type8', 'Soil_Type9', 'Soil_Type21', 'Soil_Type25', 'Soil_Type27',\n",
      "       'Soil_Type28', 'Soil_Type34', 'Soil_Type36', 'Soil_Type37'],\n",
      "      dtype='object')\n",
      "None\n",
      "we have dropped 9 coloumns using threshold varience\n",
      "current shape of data set :  (15120, 44)\n"
     ]
    }
   ],
   "source": [
    "rem_colmn = X_var.columns[varience.get_support() == False]\n",
    "print(\"columns which has low varience : \\n\\n\",rem_colmn)\n",
    "print(X_var.drop(rem_colmn,inplace=True,axis=1))\n",
    "print(\"we have dropped \" +str(len(rem_colmn))+ \" coloumns using threshold varience\")\n",
    "print(\"current shape of data set : \",X_var.shape)"
   ]
  },
  {
   "cell_type": "markdown",
   "metadata": {},
   "source": [
    "## 3.Converting all the values to a scale (std_scalar)"
   ]
  },
  {
   "cell_type": "code",
   "execution_count": 15,
   "metadata": {},
   "outputs": [
    {
     "data": {
      "text/plain": [
       "(15120, 44)"
      ]
     },
     "execution_count": 15,
     "metadata": {},
     "output_type": "execute_result"
    }
   ],
   "source": [
    "scale = StandardScaler()\n",
    "scaled_X_var = scale.fit_transform(X_var)\n",
    "scaled_X_var.shape"
   ]
  },
  {
   "cell_type": "markdown",
   "metadata": {},
   "source": [
    "## 4.Finding PCA to drop Features"
   ]
  },
  {
   "cell_type": "code",
   "execution_count": 214,
   "metadata": {},
   "outputs": [
    {
     "data": {
      "text/plain": [
       "0.9983722615885102"
      ]
     },
     "execution_count": 214,
     "metadata": {},
     "output_type": "execute_result"
    }
   ],
   "source": [
    "model = PCA(n_components=40)\n",
    "X_scaled_pca = model.fit_transform(scaled_X_var)\n",
    "X_scaled_pca = pd.DataFrame(scaled_X_var)\n",
    "model.explained_variance_ratio_.sum()"
   ]
  },
  {
   "cell_type": "markdown",
   "metadata": {},
   "source": [
    " while considering the first 40 components of PCA out we get 99.83 percent of total data"
   ]
  },
  {
   "cell_type": "code",
   "execution_count": 313,
   "metadata": {},
   "outputs": [
    {
     "data": {
      "text/plain": [
       "(15120, 40)"
      ]
     },
     "execution_count": 313,
     "metadata": {},
     "output_type": "execute_result"
    }
   ],
   "source": [
    "#reducing the columns to 40\n",
    "X_scaled_pca = X_scaled_pca.iloc[:,:-4]\n",
    "X_scaled_pca.shape"
   ]
  },
  {
   "cell_type": "markdown",
   "metadata": {},
   "source": [
    "## Train_Test_Split"
   ]
  },
  {
   "cell_type": "code",
   "execution_count": 122,
   "metadata": {},
   "outputs": [],
   "source": [
    "X_train,X_test,y_train,y_test = train_test_split(X_scaled_pca,y,random_state=10)\n"
   ]
  },
  {
   "cell_type": "markdown",
   "metadata": {},
   "source": [
    "# MODELLING"
   ]
  },
  {
   "cell_type": "markdown",
   "metadata": {},
   "source": [
    "## 1.Modelling with XGBoost"
   ]
  },
  {
   "cell_type": "code",
   "execution_count": 132,
   "metadata": {},
   "outputs": [
    {
     "data": {
      "text/plain": [
       "0.8801587301587301"
      ]
     },
     "execution_count": 132,
     "metadata": {},
     "output_type": "execute_result"
    }
   ],
   "source": [
    "model = XGBClassifier()\n",
    "model.fit(X_train,y_train)\n",
    "y_predict = model.predict(X_test)\n",
    "accuracy_score(y_test,y_predict)"
   ]
  },
  {
   "cell_type": "code",
   "execution_count": 133,
   "metadata": {},
   "outputs": [
    {
     "data": {
      "text/html": [
       "<div>\n",
       "<style scoped>\n",
       "    .dataframe tbody tr th:only-of-type {\n",
       "        vertical-align: middle;\n",
       "    }\n",
       "\n",
       "    .dataframe tbody tr th {\n",
       "        vertical-align: top;\n",
       "    }\n",
       "\n",
       "    .dataframe thead th {\n",
       "        text-align: right;\n",
       "    }\n",
       "</style>\n",
       "<table border=\"1\" class=\"dataframe\">\n",
       "  <thead>\n",
       "    <tr style=\"text-align: right;\">\n",
       "      <th>col_0</th>\n",
       "      <th>1</th>\n",
       "      <th>2</th>\n",
       "      <th>3</th>\n",
       "      <th>4</th>\n",
       "      <th>5</th>\n",
       "      <th>6</th>\n",
       "      <th>7</th>\n",
       "    </tr>\n",
       "    <tr>\n",
       "      <th>Cover_Type</th>\n",
       "      <th></th>\n",
       "      <th></th>\n",
       "      <th></th>\n",
       "      <th></th>\n",
       "      <th></th>\n",
       "      <th></th>\n",
       "      <th></th>\n",
       "    </tr>\n",
       "  </thead>\n",
       "  <tbody>\n",
       "    <tr>\n",
       "      <th>1</th>\n",
       "      <td>423</td>\n",
       "      <td>90</td>\n",
       "      <td>1</td>\n",
       "      <td>0</td>\n",
       "      <td>4</td>\n",
       "      <td>0</td>\n",
       "      <td>25</td>\n",
       "    </tr>\n",
       "    <tr>\n",
       "      <th>2</th>\n",
       "      <td>73</td>\n",
       "      <td>377</td>\n",
       "      <td>14</td>\n",
       "      <td>0</td>\n",
       "      <td>40</td>\n",
       "      <td>13</td>\n",
       "      <td>6</td>\n",
       "    </tr>\n",
       "    <tr>\n",
       "      <th>3</th>\n",
       "      <td>0</td>\n",
       "      <td>5</td>\n",
       "      <td>443</td>\n",
       "      <td>19</td>\n",
       "      <td>7</td>\n",
       "      <td>31</td>\n",
       "      <td>0</td>\n",
       "    </tr>\n",
       "    <tr>\n",
       "      <th>4</th>\n",
       "      <td>0</td>\n",
       "      <td>0</td>\n",
       "      <td>10</td>\n",
       "      <td>549</td>\n",
       "      <td>0</td>\n",
       "      <td>3</td>\n",
       "      <td>0</td>\n",
       "    </tr>\n",
       "    <tr>\n",
       "      <th>5</th>\n",
       "      <td>3</td>\n",
       "      <td>15</td>\n",
       "      <td>5</td>\n",
       "      <td>0</td>\n",
       "      <td>516</td>\n",
       "      <td>5</td>\n",
       "      <td>0</td>\n",
       "    </tr>\n",
       "    <tr>\n",
       "      <th>6</th>\n",
       "      <td>1</td>\n",
       "      <td>5</td>\n",
       "      <td>51</td>\n",
       "      <td>9</td>\n",
       "      <td>4</td>\n",
       "      <td>479</td>\n",
       "      <td>0</td>\n",
       "    </tr>\n",
       "    <tr>\n",
       "      <th>7</th>\n",
       "      <td>11</td>\n",
       "      <td>2</td>\n",
       "      <td>0</td>\n",
       "      <td>0</td>\n",
       "      <td>1</td>\n",
       "      <td>0</td>\n",
       "      <td>540</td>\n",
       "    </tr>\n",
       "  </tbody>\n",
       "</table>\n",
       "</div>"
      ],
      "text/plain": [
       "col_0         1    2    3    4    5    6    7\n",
       "Cover_Type                                   \n",
       "1           423   90    1    0    4    0   25\n",
       "2            73  377   14    0   40   13    6\n",
       "3             0    5  443   19    7   31    0\n",
       "4             0    0   10  549    0    3    0\n",
       "5             3   15    5    0  516    5    0\n",
       "6             1    5   51    9    4  479    0\n",
       "7            11    2    0    0    1    0  540"
      ]
     },
     "execution_count": 133,
     "metadata": {},
     "output_type": "execute_result"
    }
   ],
   "source": [
    "x = pd.crosstab(y_test,y_predict)\n",
    "x"
   ]
  },
  {
   "cell_type": "markdown",
   "metadata": {},
   "source": [
    "### finding percentage distribution for each catogory in output(Y)"
   ]
  },
  {
   "cell_type": "code",
   "execution_count": 190,
   "metadata": {},
   "outputs": [
    {
     "name": "stdout",
     "output_type": "stream",
     "text": [
      "percentage considering  1  is 81.69811320754718\n",
      "percentage considering  2  is 91.15789473684211\n",
      "percentage considering  3  is 84.07766990291262\n",
      "percentage considering  4  is 74.39862542955326\n",
      "percentage considering  5  is 77.32142857142857\n",
      "percentage considering  6  is 79.59558823529412\n",
      "percentage considering  7  is 75.43554006968641\n"
     ]
    }
   ],
   "source": [
    "for i in range(1,8):\n",
    "        x1 = x[i].sum()\n",
    "        x2 = x[1][1]/x1\n",
    "        print(\"percentage considering \",i,\" is\",x2*100)"
   ]
  },
  {
   "cell_type": "markdown",
   "metadata": {},
   "source": [
    "## Finding Cross Validation Score"
   ]
  },
  {
   "cell_type": "code",
   "execution_count": 135,
   "metadata": {},
   "outputs": [
    {
     "name": "stdout",
     "output_type": "stream",
     "text": [
      "cross_val_score :  [0.32473545 0.47255291 0.52314815 0.5271164  0.57275132]\n",
      "maximum accuracy :  0.5727513227513228\n",
      "minimum accuracy :  0.3247354497354497\n",
      "average accuracy :  0.4840608465608465\n"
     ]
    }
   ],
   "source": [
    "cross_val  = cross_val_score(model,X_scaled_pca,y,scoring=\"accuracy\",cv=5)\n",
    "print(\"cross_val_score : \",cross_val)\n",
    "print(\"maximum accuracy : \",max(cross_val))\n",
    "print(\"minimum accuracy : \",min(cross_val))\n",
    "print(\"average accuracy : \",np.mean(cross_val))"
   ]
  },
  {
   "cell_type": "markdown",
   "metadata": {},
   "source": [
    "eventhough, my XGBclassifier model gives 88 % in modelling but while considering cross validation score it gives a very small accurary hence XGB_classifier is not a good model for my data beacause this model leads to overfitting problem. |hence i change the model to Support_Vector_machine  "
   ]
  },
  {
   "cell_type": "markdown",
   "metadata": {},
   "source": [
    "## 2.Modelling with SVM"
   ]
  },
  {
   "cell_type": "code",
   "execution_count": 136,
   "metadata": {},
   "outputs": [
    {
     "data": {
      "text/plain": [
       "0.7441798941798942"
      ]
     },
     "execution_count": 136,
     "metadata": {},
     "output_type": "execute_result"
    }
   ],
   "source": [
    "model = SVC()\n",
    "model.fit(X_train,y_train)\n",
    "y_predict = model.predict(X_test)\n",
    "accuracy_score(y_test,y_predict)"
   ]
  },
  {
   "cell_type": "code",
   "execution_count": 216,
   "metadata": {},
   "outputs": [
    {
     "data": {
      "text/html": [
       "<div>\n",
       "<style scoped>\n",
       "    .dataframe tbody tr th:only-of-type {\n",
       "        vertical-align: middle;\n",
       "    }\n",
       "\n",
       "    .dataframe tbody tr th {\n",
       "        vertical-align: top;\n",
       "    }\n",
       "\n",
       "    .dataframe thead th {\n",
       "        text-align: right;\n",
       "    }\n",
       "</style>\n",
       "<table border=\"1\" class=\"dataframe\">\n",
       "  <thead>\n",
       "    <tr style=\"text-align: right;\">\n",
       "      <th>col_0</th>\n",
       "      <th>1</th>\n",
       "      <th>2</th>\n",
       "      <th>3</th>\n",
       "      <th>4</th>\n",
       "      <th>5</th>\n",
       "      <th>6</th>\n",
       "      <th>7</th>\n",
       "    </tr>\n",
       "    <tr>\n",
       "      <th>Cover_Type</th>\n",
       "      <th></th>\n",
       "      <th></th>\n",
       "      <th></th>\n",
       "      <th></th>\n",
       "      <th></th>\n",
       "      <th></th>\n",
       "      <th></th>\n",
       "    </tr>\n",
       "  </thead>\n",
       "  <tbody>\n",
       "    <tr>\n",
       "      <th>1</th>\n",
       "      <td>435</td>\n",
       "      <td>71</td>\n",
       "      <td>1</td>\n",
       "      <td>0</td>\n",
       "      <td>6</td>\n",
       "      <td>0</td>\n",
       "      <td>30</td>\n",
       "    </tr>\n",
       "    <tr>\n",
       "      <th>2</th>\n",
       "      <td>81</td>\n",
       "      <td>375</td>\n",
       "      <td>11</td>\n",
       "      <td>0</td>\n",
       "      <td>34</td>\n",
       "      <td>16</td>\n",
       "      <td>6</td>\n",
       "    </tr>\n",
       "    <tr>\n",
       "      <th>3</th>\n",
       "      <td>0</td>\n",
       "      <td>4</td>\n",
       "      <td>428</td>\n",
       "      <td>25</td>\n",
       "      <td>5</td>\n",
       "      <td>43</td>\n",
       "      <td>0</td>\n",
       "    </tr>\n",
       "    <tr>\n",
       "      <th>4</th>\n",
       "      <td>0</td>\n",
       "      <td>0</td>\n",
       "      <td>14</td>\n",
       "      <td>545</td>\n",
       "      <td>0</td>\n",
       "      <td>3</td>\n",
       "      <td>0</td>\n",
       "    </tr>\n",
       "    <tr>\n",
       "      <th>5</th>\n",
       "      <td>2</td>\n",
       "      <td>12</td>\n",
       "      <td>6</td>\n",
       "      <td>0</td>\n",
       "      <td>518</td>\n",
       "      <td>6</td>\n",
       "      <td>0</td>\n",
       "    </tr>\n",
       "    <tr>\n",
       "      <th>6</th>\n",
       "      <td>0</td>\n",
       "      <td>7</td>\n",
       "      <td>48</td>\n",
       "      <td>15</td>\n",
       "      <td>1</td>\n",
       "      <td>478</td>\n",
       "      <td>0</td>\n",
       "    </tr>\n",
       "    <tr>\n",
       "      <th>7</th>\n",
       "      <td>10</td>\n",
       "      <td>0</td>\n",
       "      <td>0</td>\n",
       "      <td>0</td>\n",
       "      <td>0</td>\n",
       "      <td>0</td>\n",
       "      <td>544</td>\n",
       "    </tr>\n",
       "  </tbody>\n",
       "</table>\n",
       "</div>"
      ],
      "text/plain": [
       "col_0         1    2    3    4    5    6    7\n",
       "Cover_Type                                   \n",
       "1           435   71    1    0    6    0   30\n",
       "2            81  375   11    0   34   16    6\n",
       "3             0    4  428   25    5   43    0\n",
       "4             0    0   14  545    0    3    0\n",
       "5             2   12    6    0  518    6    0\n",
       "6             0    7   48   15    1  478    0\n",
       "7            10    0    0    0    0    0  544"
      ]
     },
     "execution_count": 216,
     "metadata": {},
     "output_type": "execute_result"
    }
   ],
   "source": [
    "#cross_tab\n",
    "x = pd.crosstab(y_test,y_predict)\n",
    "x"
   ]
  },
  {
   "cell_type": "markdown",
   "metadata": {},
   "source": [
    "### finding percentage distribution for each catogory in output(Y)"
   ]
  },
  {
   "cell_type": "code",
   "execution_count": 138,
   "metadata": {},
   "outputs": [
    {
     "name": "stdout",
     "output_type": "stream",
     "text": [
      "percentage considering  1  is 65.33101045296166\n",
      "percentage considering  2  is 77.31958762886599\n",
      "percentage considering  3  is 73.2421875\n",
      "percentage considering  4  is 59.42947702060222\n",
      "percentage considering  5  is 67.3249551166966\n",
      "percentage considering  6  is 76.53061224489795\n",
      "percentage considering  7  is 70.62146892655367\n"
     ]
    }
   ],
   "source": [
    "for i in range(1,8):\n",
    "        x1 = x[i].sum()\n",
    "        x2 = x[1][1]/x1\n",
    "        print(\"percentage considering \",i,\" is\",x2*100)"
   ]
  },
  {
   "cell_type": "markdown",
   "metadata": {},
   "source": [
    "## Finding Cross Validation Score"
   ]
  },
  {
   "cell_type": "code",
   "execution_count": 139,
   "metadata": {},
   "outputs": [
    {
     "name": "stdout",
     "output_type": "stream",
     "text": [
      "cross_val_score :  [0.53835979 0.59689153 0.66335979 0.66534392 0.66732804]\n",
      "maximum accuracy :  0.6673280423280423\n",
      "minimum accuracy :  0.5383597883597884\n",
      "average accuracy :  0.6262566137566138\n"
     ]
    }
   ],
   "source": [
    "cross_val  = cross_val_score(SVC(),X_scaled_pca,y,scoring=\"accuracy\",cv=5)\n",
    "print(\"cross_val_score : \",cross_val)\n",
    "print(\"maximum accuracy : \",max(cross_val))\n",
    "print(\"minimum accuracy : \",min(cross_val))\n",
    "print(\"average accuracy : \",np.mean(cross_val))"
   ]
  },
  {
   "cell_type": "markdown",
   "metadata": {},
   "source": [
    "support vector machine gives a low accuracy as well as low cross validation score as compared to XGboost"
   ]
  },
  {
   "cell_type": "markdown",
   "metadata": {},
   "source": [
    "## 3.Modelling with Random Forest"
   ]
  },
  {
   "cell_type": "code",
   "execution_count": 205,
   "metadata": {},
   "outputs": [
    {
     "data": {
      "text/plain": [
       "0.879100529100529"
      ]
     },
     "execution_count": 205,
     "metadata": {},
     "output_type": "execute_result"
    }
   ],
   "source": [
    "model = RandomForestClassifier(n_estimators=150,random_state=10,max_depth=50,min_samples_split=2)\n",
    "model.fit(X_train,y_train)\n",
    "y_predict = model.predict(X_test)\n",
    "accuracy_score(y_test,y_predict)"
   ]
  },
  {
   "cell_type": "code",
   "execution_count": 217,
   "metadata": {},
   "outputs": [
    {
     "data": {
      "text/html": [
       "<div>\n",
       "<style scoped>\n",
       "    .dataframe tbody tr th:only-of-type {\n",
       "        vertical-align: middle;\n",
       "    }\n",
       "\n",
       "    .dataframe tbody tr th {\n",
       "        vertical-align: top;\n",
       "    }\n",
       "\n",
       "    .dataframe thead th {\n",
       "        text-align: right;\n",
       "    }\n",
       "</style>\n",
       "<table border=\"1\" class=\"dataframe\">\n",
       "  <thead>\n",
       "    <tr style=\"text-align: right;\">\n",
       "      <th>col_0</th>\n",
       "      <th>1</th>\n",
       "      <th>2</th>\n",
       "      <th>3</th>\n",
       "      <th>4</th>\n",
       "      <th>5</th>\n",
       "      <th>6</th>\n",
       "      <th>7</th>\n",
       "    </tr>\n",
       "    <tr>\n",
       "      <th>Cover_Type</th>\n",
       "      <th></th>\n",
       "      <th></th>\n",
       "      <th></th>\n",
       "      <th></th>\n",
       "      <th></th>\n",
       "      <th></th>\n",
       "      <th></th>\n",
       "    </tr>\n",
       "  </thead>\n",
       "  <tbody>\n",
       "    <tr>\n",
       "      <th>1</th>\n",
       "      <td>435</td>\n",
       "      <td>71</td>\n",
       "      <td>1</td>\n",
       "      <td>0</td>\n",
       "      <td>6</td>\n",
       "      <td>0</td>\n",
       "      <td>30</td>\n",
       "    </tr>\n",
       "    <tr>\n",
       "      <th>2</th>\n",
       "      <td>81</td>\n",
       "      <td>375</td>\n",
       "      <td>11</td>\n",
       "      <td>0</td>\n",
       "      <td>34</td>\n",
       "      <td>16</td>\n",
       "      <td>6</td>\n",
       "    </tr>\n",
       "    <tr>\n",
       "      <th>3</th>\n",
       "      <td>0</td>\n",
       "      <td>4</td>\n",
       "      <td>428</td>\n",
       "      <td>25</td>\n",
       "      <td>5</td>\n",
       "      <td>43</td>\n",
       "      <td>0</td>\n",
       "    </tr>\n",
       "    <tr>\n",
       "      <th>4</th>\n",
       "      <td>0</td>\n",
       "      <td>0</td>\n",
       "      <td>14</td>\n",
       "      <td>545</td>\n",
       "      <td>0</td>\n",
       "      <td>3</td>\n",
       "      <td>0</td>\n",
       "    </tr>\n",
       "    <tr>\n",
       "      <th>5</th>\n",
       "      <td>2</td>\n",
       "      <td>12</td>\n",
       "      <td>6</td>\n",
       "      <td>0</td>\n",
       "      <td>518</td>\n",
       "      <td>6</td>\n",
       "      <td>0</td>\n",
       "    </tr>\n",
       "    <tr>\n",
       "      <th>6</th>\n",
       "      <td>0</td>\n",
       "      <td>7</td>\n",
       "      <td>48</td>\n",
       "      <td>15</td>\n",
       "      <td>1</td>\n",
       "      <td>478</td>\n",
       "      <td>0</td>\n",
       "    </tr>\n",
       "    <tr>\n",
       "      <th>7</th>\n",
       "      <td>10</td>\n",
       "      <td>0</td>\n",
       "      <td>0</td>\n",
       "      <td>0</td>\n",
       "      <td>0</td>\n",
       "      <td>0</td>\n",
       "      <td>544</td>\n",
       "    </tr>\n",
       "  </tbody>\n",
       "</table>\n",
       "</div>"
      ],
      "text/plain": [
       "col_0         1    2    3    4    5    6    7\n",
       "Cover_Type                                   \n",
       "1           435   71    1    0    6    0   30\n",
       "2            81  375   11    0   34   16    6\n",
       "3             0    4  428   25    5   43    0\n",
       "4             0    0   14  545    0    3    0\n",
       "5             2   12    6    0  518    6    0\n",
       "6             0    7   48   15    1  478    0\n",
       "7            10    0    0    0    0    0  544"
      ]
     },
     "execution_count": 217,
     "metadata": {},
     "output_type": "execute_result"
    }
   ],
   "source": [
    "x = pd.crosstab(y_test,y_predict)\n",
    "x"
   ]
  },
  {
   "cell_type": "markdown",
   "metadata": {},
   "source": [
    "### finding percentage distribution for each catogory in output(Y)"
   ]
  },
  {
   "cell_type": "code",
   "execution_count": 219,
   "metadata": {},
   "outputs": [
    {
     "name": "stdout",
     "output_type": "stream",
     "text": [
      "percentage considering  1  is 82.38636363636364\n",
      "percentage considering  2  is 92.75053304904051\n",
      "percentage considering  3  is 85.62992125984252\n",
      "percentage considering  4  is 74.35897435897436\n",
      "percentage considering  5  is 77.12765957446808\n",
      "percentage considering  6  is 79.67032967032966\n",
      "percentage considering  7  is 75.0\n"
     ]
    }
   ],
   "source": [
    "for i in range(1,8):\n",
    "        x1 = x[i].sum()\n",
    "        x2 = x[1][1]/x1\n",
    "        print(\"percentage considering \",i,\" is\",x2*100)"
   ]
  },
  {
   "cell_type": "markdown",
   "metadata": {},
   "source": [
    "## Finding Cross Validation Score"
   ]
  },
  {
   "cell_type": "code",
   "execution_count": 206,
   "metadata": {},
   "outputs": [
    {
     "name": "stdout",
     "output_type": "stream",
     "text": [
      "cross_val_score :  [0.44246032 0.59953704 0.68055556 0.72519841 0.75231481]\n",
      "maximum accuracy :  0.7523148148148148\n",
      "minimum accuracy :  0.44246031746031744\n",
      "average accuracy :  0.6400132275132275\n"
     ]
    }
   ],
   "source": [
    "cross_val  = cross_val_score(RandomForestClassifier(),X_scaled_pca,y,scoring=\"accuracy\",cv=5)\n",
    "print(\"cross_val_score : \",cross_val)\n",
    "print(\"maximum accuracy : \",max(cross_val))\n",
    "print(\"minimum accuracy : \",min(cross_val))\n",
    "print(\"average accuracy : \",np.mean(cross_val))"
   ]
  },
  {
   "cell_type": "markdown",
   "metadata": {},
   "source": [
    "### While considering 3 models Random Forest gives a consistancy in output ,hence taking Random Forest as main model"
   ]
  },
  {
   "cell_type": "markdown",
   "metadata": {},
   "source": [
    "# Hyper_Parameter_Tuning(GridSearchCV)"
   ]
  },
  {
   "cell_type": "code",
   "execution_count": 202,
   "metadata": {},
   "outputs": [
    {
     "name": "stdout",
     "output_type": "stream",
     "text": [
      "Fitting 5 folds for each of 81 candidates, totalling 405 fits\n",
      "[CV] max_depth=10, min_samples_split=2, n_estimators=100, random_state=10 \n"
     ]
    },
    {
     "name": "stderr",
     "output_type": "stream",
     "text": [
      "[Parallel(n_jobs=1)]: Using backend SequentialBackend with 1 concurrent workers.\n"
     ]
    },
    {
     "name": "stdout",
     "output_type": "stream",
     "text": [
      "[CV]  max_depth=10, min_samples_split=2, n_estimators=100, random_state=10, total=   1.8s\n",
      "[CV] max_depth=10, min_samples_split=2, n_estimators=100, random_state=10 \n"
     ]
    },
    {
     "name": "stderr",
     "output_type": "stream",
     "text": [
      "[Parallel(n_jobs=1)]: Done   1 out of   1 | elapsed:    1.7s remaining:    0.0s\n"
     ]
    },
    {
     "name": "stdout",
     "output_type": "stream",
     "text": [
      "[CV]  max_depth=10, min_samples_split=2, n_estimators=100, random_state=10, total=   1.6s\n",
      "[CV] max_depth=10, min_samples_split=2, n_estimators=100, random_state=10 \n",
      "[CV]  max_depth=10, min_samples_split=2, n_estimators=100, random_state=10, total=   1.4s\n",
      "[CV] max_depth=10, min_samples_split=2, n_estimators=100, random_state=10 \n",
      "[CV]  max_depth=10, min_samples_split=2, n_estimators=100, random_state=10, total=   1.4s\n",
      "[CV] max_depth=10, min_samples_split=2, n_estimators=100, random_state=10 \n",
      "[CV]  max_depth=10, min_samples_split=2, n_estimators=100, random_state=10, total=   1.4s\n",
      "[CV] max_depth=10, min_samples_split=2, n_estimators=100, random_state=13 \n",
      "[CV]  max_depth=10, min_samples_split=2, n_estimators=100, random_state=13, total=   1.6s\n",
      "[CV] max_depth=10, min_samples_split=2, n_estimators=100, random_state=13 \n",
      "[CV]  max_depth=10, min_samples_split=2, n_estimators=100, random_state=13, total=   1.4s\n",
      "[CV] max_depth=10, min_samples_split=2, n_estimators=100, random_state=13 \n",
      "[CV]  max_depth=10, min_samples_split=2, n_estimators=100, random_state=13, total=   1.4s\n",
      "[CV] max_depth=10, min_samples_split=2, n_estimators=100, random_state=13 \n",
      "[CV]  max_depth=10, min_samples_split=2, n_estimators=100, random_state=13, total=   1.4s\n",
      "[CV] max_depth=10, min_samples_split=2, n_estimators=100, random_state=13 \n",
      "[CV]  max_depth=10, min_samples_split=2, n_estimators=100, random_state=13, total=   1.6s\n",
      "[CV] max_depth=10, min_samples_split=2, n_estimators=100, random_state=42 \n",
      "[CV]  max_depth=10, min_samples_split=2, n_estimators=100, random_state=42, total=   1.4s\n",
      "[CV] max_depth=10, min_samples_split=2, n_estimators=100, random_state=42 \n",
      "[CV]  max_depth=10, min_samples_split=2, n_estimators=100, random_state=42, total=   1.4s\n",
      "[CV] max_depth=10, min_samples_split=2, n_estimators=100, random_state=42 \n",
      "[CV]  max_depth=10, min_samples_split=2, n_estimators=100, random_state=42, total=   1.6s\n",
      "[CV] max_depth=10, min_samples_split=2, n_estimators=100, random_state=42 \n",
      "[CV]  max_depth=10, min_samples_split=2, n_estimators=100, random_state=42, total=   1.4s\n",
      "[CV] max_depth=10, min_samples_split=2, n_estimators=100, random_state=42 \n",
      "[CV]  max_depth=10, min_samples_split=2, n_estimators=100, random_state=42, total=   1.4s\n",
      "[CV] max_depth=10, min_samples_split=2, n_estimators=125, random_state=10 \n",
      "[CV]  max_depth=10, min_samples_split=2, n_estimators=125, random_state=10, total=   1.8s\n",
      "[CV] max_depth=10, min_samples_split=2, n_estimators=125, random_state=10 \n",
      "[CV]  max_depth=10, min_samples_split=2, n_estimators=125, random_state=10, total=   1.9s\n",
      "[CV] max_depth=10, min_samples_split=2, n_estimators=125, random_state=10 \n",
      "[CV]  max_depth=10, min_samples_split=2, n_estimators=125, random_state=10, total=   1.7s\n",
      "[CV] max_depth=10, min_samples_split=2, n_estimators=125, random_state=10 \n",
      "[CV]  max_depth=10, min_samples_split=2, n_estimators=125, random_state=10, total=   1.7s\n",
      "[CV] max_depth=10, min_samples_split=2, n_estimators=125, random_state=10 \n",
      "[CV]  max_depth=10, min_samples_split=2, n_estimators=125, random_state=10, total=   2.0s\n",
      "[CV] max_depth=10, min_samples_split=2, n_estimators=125, random_state=13 \n",
      "[CV]  max_depth=10, min_samples_split=2, n_estimators=125, random_state=13, total=   1.8s\n",
      "[CV] max_depth=10, min_samples_split=2, n_estimators=125, random_state=13 \n",
      "[CV]  max_depth=10, min_samples_split=2, n_estimators=125, random_state=13, total=   2.0s\n",
      "[CV] max_depth=10, min_samples_split=2, n_estimators=125, random_state=13 \n",
      "[CV]  max_depth=10, min_samples_split=2, n_estimators=125, random_state=13, total=   1.8s\n",
      "[CV] max_depth=10, min_samples_split=2, n_estimators=125, random_state=13 \n",
      "[CV]  max_depth=10, min_samples_split=2, n_estimators=125, random_state=13, total=   1.8s\n",
      "[CV] max_depth=10, min_samples_split=2, n_estimators=125, random_state=13 \n",
      "[CV]  max_depth=10, min_samples_split=2, n_estimators=125, random_state=13, total=   2.0s\n",
      "[CV] max_depth=10, min_samples_split=2, n_estimators=125, random_state=42 \n",
      "[CV]  max_depth=10, min_samples_split=2, n_estimators=125, random_state=42, total=   1.8s\n",
      "[CV] max_depth=10, min_samples_split=2, n_estimators=125, random_state=42 \n",
      "[CV]  max_depth=10, min_samples_split=2, n_estimators=125, random_state=42, total=   1.8s\n",
      "[CV] max_depth=10, min_samples_split=2, n_estimators=125, random_state=42 \n",
      "[CV]  max_depth=10, min_samples_split=2, n_estimators=125, random_state=42, total=   1.9s\n",
      "[CV] max_depth=10, min_samples_split=2, n_estimators=125, random_state=42 \n",
      "[CV]  max_depth=10, min_samples_split=2, n_estimators=125, random_state=42, total=   1.8s\n",
      "[CV] max_depth=10, min_samples_split=2, n_estimators=125, random_state=42 \n",
      "[CV]  max_depth=10, min_samples_split=2, n_estimators=125, random_state=42, total=   1.8s\n",
      "[CV] max_depth=10, min_samples_split=2, n_estimators=150, random_state=10 \n",
      "[CV]  max_depth=10, min_samples_split=2, n_estimators=150, random_state=10, total=   2.3s\n",
      "[CV] max_depth=10, min_samples_split=2, n_estimators=150, random_state=10 \n",
      "[CV]  max_depth=10, min_samples_split=2, n_estimators=150, random_state=10, total=   2.1s\n",
      "[CV] max_depth=10, min_samples_split=2, n_estimators=150, random_state=10 \n",
      "[CV]  max_depth=10, min_samples_split=2, n_estimators=150, random_state=10, total=   2.3s\n",
      "[CV] max_depth=10, min_samples_split=2, n_estimators=150, random_state=10 \n",
      "[CV]  max_depth=10, min_samples_split=2, n_estimators=150, random_state=10, total=   2.1s\n",
      "[CV] max_depth=10, min_samples_split=2, n_estimators=150, random_state=10 \n",
      "[CV]  max_depth=10, min_samples_split=2, n_estimators=150, random_state=10, total=   2.1s\n",
      "[CV] max_depth=10, min_samples_split=2, n_estimators=150, random_state=13 \n",
      "[CV]  max_depth=10, min_samples_split=2, n_estimators=150, random_state=13, total=   2.4s\n",
      "[CV] max_depth=10, min_samples_split=2, n_estimators=150, random_state=13 \n",
      "[CV]  max_depth=10, min_samples_split=2, n_estimators=150, random_state=13, total=   2.2s\n",
      "[CV] max_depth=10, min_samples_split=2, n_estimators=150, random_state=13 \n",
      "[CV]  max_depth=10, min_samples_split=2, n_estimators=150, random_state=13, total=   2.4s\n",
      "[CV] max_depth=10, min_samples_split=2, n_estimators=150, random_state=13 \n",
      "[CV]  max_depth=10, min_samples_split=2, n_estimators=150, random_state=13, total=   2.2s\n",
      "[CV] max_depth=10, min_samples_split=2, n_estimators=150, random_state=13 \n",
      "[CV]  max_depth=10, min_samples_split=2, n_estimators=150, random_state=13, total=   2.1s\n",
      "[CV] max_depth=10, min_samples_split=2, n_estimators=150, random_state=42 \n",
      "[CV]  max_depth=10, min_samples_split=2, n_estimators=150, random_state=42, total=   2.3s\n",
      "[CV] max_depth=10, min_samples_split=2, n_estimators=150, random_state=42 \n",
      "[CV]  max_depth=10, min_samples_split=2, n_estimators=150, random_state=42, total=   2.1s\n",
      "[CV] max_depth=10, min_samples_split=2, n_estimators=150, random_state=42 \n",
      "[CV]  max_depth=10, min_samples_split=2, n_estimators=150, random_state=42, total=   2.3s\n",
      "[CV] max_depth=10, min_samples_split=2, n_estimators=150, random_state=42 \n",
      "[CV]  max_depth=10, min_samples_split=2, n_estimators=150, random_state=42, total=   2.2s\n",
      "[CV] max_depth=10, min_samples_split=2, n_estimators=150, random_state=42 \n",
      "[CV]  max_depth=10, min_samples_split=2, n_estimators=150, random_state=42, total=   2.3s\n",
      "[CV] max_depth=10, min_samples_split=4, n_estimators=100, random_state=10 \n",
      "[CV]  max_depth=10, min_samples_split=4, n_estimators=100, random_state=10, total=   1.4s\n",
      "[CV] max_depth=10, min_samples_split=4, n_estimators=100, random_state=10 \n",
      "[CV]  max_depth=10, min_samples_split=4, n_estimators=100, random_state=10, total=   1.4s\n",
      "[CV] max_depth=10, min_samples_split=4, n_estimators=100, random_state=10 \n",
      "[CV]  max_depth=10, min_samples_split=4, n_estimators=100, random_state=10, total=   1.4s\n",
      "[CV] max_depth=10, min_samples_split=4, n_estimators=100, random_state=10 \n",
      "[CV]  max_depth=10, min_samples_split=4, n_estimators=100, random_state=10, total=   1.6s\n",
      "[CV] max_depth=10, min_samples_split=4, n_estimators=100, random_state=10 \n",
      "[CV]  max_depth=10, min_samples_split=4, n_estimators=100, random_state=10, total=   1.4s\n",
      "[CV] max_depth=10, min_samples_split=4, n_estimators=100, random_state=13 \n",
      "[CV]  max_depth=10, min_samples_split=4, n_estimators=100, random_state=13, total=   1.4s\n",
      "[CV] max_depth=10, min_samples_split=4, n_estimators=100, random_state=13 \n"
     ]
    },
    {
     "name": "stdout",
     "output_type": "stream",
     "text": [
      "[CV]  max_depth=10, min_samples_split=4, n_estimators=100, random_state=13, total=   1.4s\n",
      "[CV] max_depth=10, min_samples_split=4, n_estimators=100, random_state=13 \n",
      "[CV]  max_depth=10, min_samples_split=4, n_estimators=100, random_state=13, total=   1.6s\n",
      "[CV] max_depth=10, min_samples_split=4, n_estimators=100, random_state=13 \n",
      "[CV]  max_depth=10, min_samples_split=4, n_estimators=100, random_state=13, total=   1.4s\n",
      "[CV] max_depth=10, min_samples_split=4, n_estimators=100, random_state=13 \n",
      "[CV]  max_depth=10, min_samples_split=4, n_estimators=100, random_state=13, total=   1.4s\n",
      "[CV] max_depth=10, min_samples_split=4, n_estimators=100, random_state=42 \n",
      "[CV]  max_depth=10, min_samples_split=4, n_estimators=100, random_state=42, total=   1.6s\n",
      "[CV] max_depth=10, min_samples_split=4, n_estimators=100, random_state=42 \n",
      "[CV]  max_depth=10, min_samples_split=4, n_estimators=100, random_state=42, total=   1.5s\n",
      "[CV] max_depth=10, min_samples_split=4, n_estimators=100, random_state=42 \n",
      "[CV]  max_depth=10, min_samples_split=4, n_estimators=100, random_state=42, total=   1.5s\n",
      "[CV] max_depth=10, min_samples_split=4, n_estimators=100, random_state=42 \n",
      "[CV]  max_depth=10, min_samples_split=4, n_estimators=100, random_state=42, total=   1.6s\n",
      "[CV] max_depth=10, min_samples_split=4, n_estimators=100, random_state=42 \n",
      "[CV]  max_depth=10, min_samples_split=4, n_estimators=100, random_state=42, total=   1.7s\n",
      "[CV] max_depth=10, min_samples_split=4, n_estimators=125, random_state=10 \n",
      "[CV]  max_depth=10, min_samples_split=4, n_estimators=125, random_state=10, total=   1.9s\n",
      "[CV] max_depth=10, min_samples_split=4, n_estimators=125, random_state=10 \n",
      "[CV]  max_depth=10, min_samples_split=4, n_estimators=125, random_state=10, total=   1.8s\n",
      "[CV] max_depth=10, min_samples_split=4, n_estimators=125, random_state=10 \n",
      "[CV]  max_depth=10, min_samples_split=4, n_estimators=125, random_state=10, total=   1.9s\n",
      "[CV] max_depth=10, min_samples_split=4, n_estimators=125, random_state=10 \n",
      "[CV]  max_depth=10, min_samples_split=4, n_estimators=125, random_state=10, total=   1.8s\n",
      "[CV] max_depth=10, min_samples_split=4, n_estimators=125, random_state=10 \n",
      "[CV]  max_depth=10, min_samples_split=4, n_estimators=125, random_state=10, total=   1.7s\n",
      "[CV] max_depth=10, min_samples_split=4, n_estimators=125, random_state=13 \n",
      "[CV]  max_depth=10, min_samples_split=4, n_estimators=125, random_state=13, total=   2.0s\n",
      "[CV] max_depth=10, min_samples_split=4, n_estimators=125, random_state=13 \n",
      "[CV]  max_depth=10, min_samples_split=4, n_estimators=125, random_state=13, total=   1.8s\n",
      "[CV] max_depth=10, min_samples_split=4, n_estimators=125, random_state=13 \n",
      "[CV]  max_depth=10, min_samples_split=4, n_estimators=125, random_state=13, total=   1.9s\n",
      "[CV] max_depth=10, min_samples_split=4, n_estimators=125, random_state=13 \n",
      "[CV]  max_depth=10, min_samples_split=4, n_estimators=125, random_state=13, total=   1.8s\n",
      "[CV] max_depth=10, min_samples_split=4, n_estimators=125, random_state=13 \n",
      "[CV]  max_depth=10, min_samples_split=4, n_estimators=125, random_state=13, total=   1.8s\n",
      "[CV] max_depth=10, min_samples_split=4, n_estimators=125, random_state=42 \n",
      "[CV]  max_depth=10, min_samples_split=4, n_estimators=125, random_state=42, total=   2.0s\n",
      "[CV] max_depth=10, min_samples_split=4, n_estimators=125, random_state=42 \n",
      "[CV]  max_depth=10, min_samples_split=4, n_estimators=125, random_state=42, total=   1.8s\n",
      "[CV] max_depth=10, min_samples_split=4, n_estimators=125, random_state=42 \n",
      "[CV]  max_depth=10, min_samples_split=4, n_estimators=125, random_state=42, total=   1.8s\n",
      "[CV] max_depth=10, min_samples_split=4, n_estimators=125, random_state=42 \n",
      "[CV]  max_depth=10, min_samples_split=4, n_estimators=125, random_state=42, total=   2.0s\n",
      "[CV] max_depth=10, min_samples_split=4, n_estimators=125, random_state=42 \n",
      "[CV]  max_depth=10, min_samples_split=4, n_estimators=125, random_state=42, total=   1.8s\n",
      "[CV] max_depth=10, min_samples_split=4, n_estimators=150, random_state=10 \n",
      "[CV]  max_depth=10, min_samples_split=4, n_estimators=150, random_state=10, total=   2.1s\n",
      "[CV] max_depth=10, min_samples_split=4, n_estimators=150, random_state=10 \n",
      "[CV]  max_depth=10, min_samples_split=4, n_estimators=150, random_state=10, total=   2.3s\n",
      "[CV] max_depth=10, min_samples_split=4, n_estimators=150, random_state=10 \n",
      "[CV]  max_depth=10, min_samples_split=4, n_estimators=150, random_state=10, total=   2.1s\n",
      "[CV] max_depth=10, min_samples_split=4, n_estimators=150, random_state=10 \n",
      "[CV]  max_depth=10, min_samples_split=4, n_estimators=150, random_state=10, total=   2.3s\n",
      "[CV] max_depth=10, min_samples_split=4, n_estimators=150, random_state=10 \n",
      "[CV]  max_depth=10, min_samples_split=4, n_estimators=150, random_state=10, total=   2.1s\n",
      "[CV] max_depth=10, min_samples_split=4, n_estimators=150, random_state=13 \n",
      "[CV]  max_depth=10, min_samples_split=4, n_estimators=150, random_state=13, total=   2.1s\n",
      "[CV] max_depth=10, min_samples_split=4, n_estimators=150, random_state=13 \n",
      "[CV]  max_depth=10, min_samples_split=4, n_estimators=150, random_state=13, total=   2.3s\n",
      "[CV] max_depth=10, min_samples_split=4, n_estimators=150, random_state=13 \n",
      "[CV]  max_depth=10, min_samples_split=4, n_estimators=150, random_state=13, total=   2.1s\n",
      "[CV] max_depth=10, min_samples_split=4, n_estimators=150, random_state=13 \n",
      "[CV]  max_depth=10, min_samples_split=4, n_estimators=150, random_state=13, total=   2.3s\n",
      "[CV] max_depth=10, min_samples_split=4, n_estimators=150, random_state=13 \n",
      "[CV]  max_depth=10, min_samples_split=4, n_estimators=150, random_state=13, total=   2.1s\n",
      "[CV] max_depth=10, min_samples_split=4, n_estimators=150, random_state=42 \n",
      "[CV]  max_depth=10, min_samples_split=4, n_estimators=150, random_state=42, total=   2.2s\n",
      "[CV] max_depth=10, min_samples_split=4, n_estimators=150, random_state=42 \n",
      "[CV]  max_depth=10, min_samples_split=4, n_estimators=150, random_state=42, total=   2.3s\n",
      "[CV] max_depth=10, min_samples_split=4, n_estimators=150, random_state=42 \n",
      "[CV]  max_depth=10, min_samples_split=4, n_estimators=150, random_state=42, total=   2.1s\n",
      "[CV] max_depth=10, min_samples_split=4, n_estimators=150, random_state=42 \n",
      "[CV]  max_depth=10, min_samples_split=4, n_estimators=150, random_state=42, total=   2.3s\n",
      "[CV] max_depth=10, min_samples_split=4, n_estimators=150, random_state=42 \n",
      "[CV]  max_depth=10, min_samples_split=4, n_estimators=150, random_state=42, total=   2.2s\n",
      "[CV] max_depth=10, min_samples_split=7, n_estimators=100, random_state=10 \n",
      "[CV]  max_depth=10, min_samples_split=7, n_estimators=100, random_state=10, total=   1.4s\n",
      "[CV] max_depth=10, min_samples_split=7, n_estimators=100, random_state=10 \n",
      "[CV]  max_depth=10, min_samples_split=7, n_estimators=100, random_state=10, total=   1.7s\n",
      "[CV] max_depth=10, min_samples_split=7, n_estimators=100, random_state=10 \n",
      "[CV]  max_depth=10, min_samples_split=7, n_estimators=100, random_state=10, total=   1.4s\n",
      "[CV] max_depth=10, min_samples_split=7, n_estimators=100, random_state=10 \n",
      "[CV]  max_depth=10, min_samples_split=7, n_estimators=100, random_state=10, total=   1.4s\n",
      "[CV] max_depth=10, min_samples_split=7, n_estimators=100, random_state=10 \n",
      "[CV]  max_depth=10, min_samples_split=7, n_estimators=100, random_state=10, total=   1.6s\n",
      "[CV] max_depth=10, min_samples_split=7, n_estimators=100, random_state=13 \n",
      "[CV]  max_depth=10, min_samples_split=7, n_estimators=100, random_state=13, total=   1.4s\n",
      "[CV] max_depth=10, min_samples_split=7, n_estimators=100, random_state=13 \n",
      "[CV]  max_depth=10, min_samples_split=7, n_estimators=100, random_state=13, total=   1.4s\n",
      "[CV] max_depth=10, min_samples_split=7, n_estimators=100, random_state=13 \n",
      "[CV]  max_depth=10, min_samples_split=7, n_estimators=100, random_state=13, total=   1.4s\n",
      "[CV] max_depth=10, min_samples_split=7, n_estimators=100, random_state=13 \n",
      "[CV]  max_depth=10, min_samples_split=7, n_estimators=100, random_state=13, total=   1.6s\n",
      "[CV] max_depth=10, min_samples_split=7, n_estimators=100, random_state=13 \n",
      "[CV]  max_depth=10, min_samples_split=7, n_estimators=100, random_state=13, total=   1.4s\n",
      "[CV] max_depth=10, min_samples_split=7, n_estimators=100, random_state=42 \n",
      "[CV]  max_depth=10, min_samples_split=7, n_estimators=100, random_state=42, total=   1.5s\n",
      "[CV] max_depth=10, min_samples_split=7, n_estimators=100, random_state=42 \n"
     ]
    },
    {
     "name": "stdout",
     "output_type": "stream",
     "text": [
      "[CV]  max_depth=10, min_samples_split=7, n_estimators=100, random_state=42, total=   1.4s\n",
      "[CV] max_depth=10, min_samples_split=7, n_estimators=100, random_state=42 \n",
      "[CV]  max_depth=10, min_samples_split=7, n_estimators=100, random_state=42, total=   1.6s\n",
      "[CV] max_depth=10, min_samples_split=7, n_estimators=100, random_state=42 \n",
      "[CV]  max_depth=10, min_samples_split=7, n_estimators=100, random_state=42, total=   1.4s\n",
      "[CV] max_depth=10, min_samples_split=7, n_estimators=100, random_state=42 \n",
      "[CV]  max_depth=10, min_samples_split=7, n_estimators=100, random_state=42, total=   1.4s\n",
      "[CV] max_depth=10, min_samples_split=7, n_estimators=125, random_state=10 \n",
      "[CV]  max_depth=10, min_samples_split=7, n_estimators=125, random_state=10, total=   1.9s\n",
      "[CV] max_depth=10, min_samples_split=7, n_estimators=125, random_state=10 \n",
      "[CV]  max_depth=10, min_samples_split=7, n_estimators=125, random_state=10, total=   1.7s\n",
      "[CV] max_depth=10, min_samples_split=7, n_estimators=125, random_state=10 \n",
      "[CV]  max_depth=10, min_samples_split=7, n_estimators=125, random_state=10, total=   1.7s\n",
      "[CV] max_depth=10, min_samples_split=7, n_estimators=125, random_state=10 \n",
      "[CV]  max_depth=10, min_samples_split=7, n_estimators=125, random_state=10, total=   1.9s\n",
      "[CV] max_depth=10, min_samples_split=7, n_estimators=125, random_state=10 \n",
      "[CV]  max_depth=10, min_samples_split=7, n_estimators=125, random_state=10, total=   1.7s\n",
      "[CV] max_depth=10, min_samples_split=7, n_estimators=125, random_state=13 \n",
      "[CV]  max_depth=10, min_samples_split=7, n_estimators=125, random_state=13, total=   1.8s\n",
      "[CV] max_depth=10, min_samples_split=7, n_estimators=125, random_state=13 \n",
      "[CV]  max_depth=10, min_samples_split=7, n_estimators=125, random_state=13, total=   1.9s\n",
      "[CV] max_depth=10, min_samples_split=7, n_estimators=125, random_state=13 \n",
      "[CV]  max_depth=10, min_samples_split=7, n_estimators=125, random_state=13, total=   1.8s\n",
      "[CV] max_depth=10, min_samples_split=7, n_estimators=125, random_state=13 \n",
      "[CV]  max_depth=10, min_samples_split=7, n_estimators=125, random_state=13, total=   1.8s\n",
      "[CV] max_depth=10, min_samples_split=7, n_estimators=125, random_state=13 \n",
      "[CV]  max_depth=10, min_samples_split=7, n_estimators=125, random_state=13, total=   1.9s\n",
      "[CV] max_depth=10, min_samples_split=7, n_estimators=125, random_state=42 \n",
      "[CV]  max_depth=10, min_samples_split=7, n_estimators=125, random_state=42, total=   1.8s\n",
      "[CV] max_depth=10, min_samples_split=7, n_estimators=125, random_state=42 \n",
      "[CV]  max_depth=10, min_samples_split=7, n_estimators=125, random_state=42, total=   1.8s\n",
      "[CV] max_depth=10, min_samples_split=7, n_estimators=125, random_state=42 \n",
      "[CV]  max_depth=10, min_samples_split=7, n_estimators=125, random_state=42, total=   1.9s\n",
      "[CV] max_depth=10, min_samples_split=7, n_estimators=125, random_state=42 \n",
      "[CV]  max_depth=10, min_samples_split=7, n_estimators=125, random_state=42, total=   1.8s\n",
      "[CV] max_depth=10, min_samples_split=7, n_estimators=125, random_state=42 \n",
      "[CV]  max_depth=10, min_samples_split=7, n_estimators=125, random_state=42, total=   1.8s\n",
      "[CV] max_depth=10, min_samples_split=7, n_estimators=150, random_state=10 \n",
      "[CV]  max_depth=10, min_samples_split=7, n_estimators=150, random_state=10, total=   2.3s\n",
      "[CV] max_depth=10, min_samples_split=7, n_estimators=150, random_state=10 \n",
      "[CV]  max_depth=10, min_samples_split=7, n_estimators=150, random_state=10, total=   2.1s\n",
      "[CV] max_depth=10, min_samples_split=7, n_estimators=150, random_state=10 \n",
      "[CV]  max_depth=10, min_samples_split=7, n_estimators=150, random_state=10, total=   2.3s\n",
      "[CV] max_depth=10, min_samples_split=7, n_estimators=150, random_state=10 \n",
      "[CV]  max_depth=10, min_samples_split=7, n_estimators=150, random_state=10, total=   2.1s\n",
      "[CV] max_depth=10, min_samples_split=7, n_estimators=150, random_state=10 \n",
      "[CV]  max_depth=10, min_samples_split=7, n_estimators=150, random_state=10, total=   2.2s\n",
      "[CV] max_depth=10, min_samples_split=7, n_estimators=150, random_state=13 \n",
      "[CV]  max_depth=10, min_samples_split=7, n_estimators=150, random_state=13, total=   2.3s\n",
      "[CV] max_depth=10, min_samples_split=7, n_estimators=150, random_state=13 \n",
      "[CV]  max_depth=10, min_samples_split=7, n_estimators=150, random_state=13, total=   2.1s\n",
      "[CV] max_depth=10, min_samples_split=7, n_estimators=150, random_state=13 \n",
      "[CV]  max_depth=10, min_samples_split=7, n_estimators=150, random_state=13, total=   2.3s\n",
      "[CV] max_depth=10, min_samples_split=7, n_estimators=150, random_state=13 \n",
      "[CV]  max_depth=10, min_samples_split=7, n_estimators=150, random_state=13, total=   2.1s\n",
      "[CV] max_depth=10, min_samples_split=7, n_estimators=150, random_state=13 \n",
      "[CV]  max_depth=10, min_samples_split=7, n_estimators=150, random_state=13, total=   2.3s\n",
      "[CV] max_depth=10, min_samples_split=7, n_estimators=150, random_state=42 \n",
      "[CV]  max_depth=10, min_samples_split=7, n_estimators=150, random_state=42, total=   2.1s\n",
      "[CV] max_depth=10, min_samples_split=7, n_estimators=150, random_state=42 \n",
      "[CV]  max_depth=10, min_samples_split=7, n_estimators=150, random_state=42, total=   2.1s\n",
      "[CV] max_depth=10, min_samples_split=7, n_estimators=150, random_state=42 \n",
      "[CV]  max_depth=10, min_samples_split=7, n_estimators=150, random_state=42, total=   2.3s\n",
      "[CV] max_depth=10, min_samples_split=7, n_estimators=150, random_state=42 \n",
      "[CV]  max_depth=10, min_samples_split=7, n_estimators=150, random_state=42, total=   2.1s\n",
      "[CV] max_depth=10, min_samples_split=7, n_estimators=150, random_state=42 \n",
      "[CV]  max_depth=10, min_samples_split=7, n_estimators=150, random_state=42, total=   2.3s\n",
      "[CV] max_depth=20, min_samples_split=2, n_estimators=100, random_state=10 \n",
      "[CV]  max_depth=20, min_samples_split=2, n_estimators=100, random_state=10, total=   2.0s\n",
      "[CV] max_depth=20, min_samples_split=2, n_estimators=100, random_state=10 \n",
      "[CV]  max_depth=20, min_samples_split=2, n_estimators=100, random_state=10, total=   2.1s\n",
      "[CV] max_depth=20, min_samples_split=2, n_estimators=100, random_state=10 \n",
      "[CV]  max_depth=20, min_samples_split=2, n_estimators=100, random_state=10, total=   2.2s\n",
      "[CV] max_depth=20, min_samples_split=2, n_estimators=100, random_state=10 \n",
      "[CV]  max_depth=20, min_samples_split=2, n_estimators=100, random_state=10, total=   2.1s\n",
      "[CV] max_depth=20, min_samples_split=2, n_estimators=100, random_state=10 \n",
      "[CV]  max_depth=20, min_samples_split=2, n_estimators=100, random_state=10, total=   2.2s\n",
      "[CV] max_depth=20, min_samples_split=2, n_estimators=100, random_state=13 \n",
      "[CV]  max_depth=20, min_samples_split=2, n_estimators=100, random_state=13, total=   2.1s\n",
      "[CV] max_depth=20, min_samples_split=2, n_estimators=100, random_state=13 \n",
      "[CV]  max_depth=20, min_samples_split=2, n_estimators=100, random_state=13, total=   2.1s\n",
      "[CV] max_depth=20, min_samples_split=2, n_estimators=100, random_state=13 \n",
      "[CV]  max_depth=20, min_samples_split=2, n_estimators=100, random_state=13, total=   2.2s\n",
      "[CV] max_depth=20, min_samples_split=2, n_estimators=100, random_state=13 \n",
      "[CV]  max_depth=20, min_samples_split=2, n_estimators=100, random_state=13, total=   2.1s\n",
      "[CV] max_depth=20, min_samples_split=2, n_estimators=100, random_state=13 \n",
      "[CV]  max_depth=20, min_samples_split=2, n_estimators=100, random_state=13, total=   2.2s\n",
      "[CV] max_depth=20, min_samples_split=2, n_estimators=100, random_state=42 \n",
      "[CV]  max_depth=20, min_samples_split=2, n_estimators=100, random_state=42, total=   2.1s\n",
      "[CV] max_depth=20, min_samples_split=2, n_estimators=100, random_state=42 \n",
      "[CV]  max_depth=20, min_samples_split=2, n_estimators=100, random_state=42, total=   2.0s\n",
      "[CV] max_depth=20, min_samples_split=2, n_estimators=100, random_state=42 \n",
      "[CV]  max_depth=20, min_samples_split=2, n_estimators=100, random_state=42, total=   2.2s\n",
      "[CV] max_depth=20, min_samples_split=2, n_estimators=100, random_state=42 \n",
      "[CV]  max_depth=20, min_samples_split=2, n_estimators=100, random_state=42, total=   2.1s\n",
      "[CV] max_depth=20, min_samples_split=2, n_estimators=100, random_state=42 \n",
      "[CV]  max_depth=20, min_samples_split=2, n_estimators=100, random_state=42, total=   2.2s\n",
      "[CV] max_depth=20, min_samples_split=2, n_estimators=125, random_state=10 \n",
      "[CV]  max_depth=20, min_samples_split=2, n_estimators=125, random_state=10, total=   2.5s\n",
      "[CV] max_depth=20, min_samples_split=2, n_estimators=125, random_state=10 \n"
     ]
    },
    {
     "name": "stdout",
     "output_type": "stream",
     "text": [
      "[CV]  max_depth=20, min_samples_split=2, n_estimators=125, random_state=10, total=   2.7s\n",
      "[CV] max_depth=20, min_samples_split=2, n_estimators=125, random_state=10 \n",
      "[CV]  max_depth=20, min_samples_split=2, n_estimators=125, random_state=10, total=   2.5s\n",
      "[CV] max_depth=20, min_samples_split=2, n_estimators=125, random_state=10 \n",
      "[CV]  max_depth=20, min_samples_split=2, n_estimators=125, random_state=10, total=   2.7s\n",
      "[CV] max_depth=20, min_samples_split=2, n_estimators=125, random_state=10 \n",
      "[CV]  max_depth=20, min_samples_split=2, n_estimators=125, random_state=10, total=   2.6s\n",
      "[CV] max_depth=20, min_samples_split=2, n_estimators=125, random_state=13 \n",
      "[CV]  max_depth=20, min_samples_split=2, n_estimators=125, random_state=13, total=   2.8s\n",
      "[CV] max_depth=20, min_samples_split=2, n_estimators=125, random_state=13 \n",
      "[CV]  max_depth=20, min_samples_split=2, n_estimators=125, random_state=13, total=   2.6s\n",
      "[CV] max_depth=20, min_samples_split=2, n_estimators=125, random_state=13 \n",
      "[CV]  max_depth=20, min_samples_split=2, n_estimators=125, random_state=13, total=   2.8s\n",
      "[CV] max_depth=20, min_samples_split=2, n_estimators=125, random_state=13 \n",
      "[CV]  max_depth=20, min_samples_split=2, n_estimators=125, random_state=13, total=   2.6s\n",
      "[CV] max_depth=20, min_samples_split=2, n_estimators=125, random_state=13 \n",
      "[CV]  max_depth=20, min_samples_split=2, n_estimators=125, random_state=13, total=   2.7s\n",
      "[CV] max_depth=20, min_samples_split=2, n_estimators=125, random_state=42 \n",
      "[CV]  max_depth=20, min_samples_split=2, n_estimators=125, random_state=42, total=   2.6s\n",
      "[CV] max_depth=20, min_samples_split=2, n_estimators=125, random_state=42 \n",
      "[CV]  max_depth=20, min_samples_split=2, n_estimators=125, random_state=42, total=   2.7s\n",
      "[CV] max_depth=20, min_samples_split=2, n_estimators=125, random_state=42 \n",
      "[CV]  max_depth=20, min_samples_split=2, n_estimators=125, random_state=42, total=   2.5s\n",
      "[CV] max_depth=20, min_samples_split=2, n_estimators=125, random_state=42 \n",
      "[CV]  max_depth=20, min_samples_split=2, n_estimators=125, random_state=42, total=   2.7s\n",
      "[CV] max_depth=20, min_samples_split=2, n_estimators=125, random_state=42 \n",
      "[CV]  max_depth=20, min_samples_split=2, n_estimators=125, random_state=42, total=   2.5s\n",
      "[CV] max_depth=20, min_samples_split=2, n_estimators=150, random_state=10 \n",
      "[CV]  max_depth=20, min_samples_split=2, n_estimators=150, random_state=10, total=   3.2s\n",
      "[CV] max_depth=20, min_samples_split=2, n_estimators=150, random_state=10 \n",
      "[CV]  max_depth=20, min_samples_split=2, n_estimators=150, random_state=10, total=   3.0s\n",
      "[CV] max_depth=20, min_samples_split=2, n_estimators=150, random_state=10 \n",
      "[CV]  max_depth=20, min_samples_split=2, n_estimators=150, random_state=10, total=   3.2s\n",
      "[CV] max_depth=20, min_samples_split=2, n_estimators=150, random_state=10 \n",
      "[CV]  max_depth=20, min_samples_split=2, n_estimators=150, random_state=10, total=   3.1s\n",
      "[CV] max_depth=20, min_samples_split=2, n_estimators=150, random_state=10 \n",
      "[CV]  max_depth=20, min_samples_split=2, n_estimators=150, random_state=10, total=   3.2s\n",
      "[CV] max_depth=20, min_samples_split=2, n_estimators=150, random_state=13 \n",
      "[CV]  max_depth=20, min_samples_split=2, n_estimators=150, random_state=13, total=   3.3s\n",
      "[CV] max_depth=20, min_samples_split=2, n_estimators=150, random_state=13 \n",
      "[CV]  max_depth=20, min_samples_split=2, n_estimators=150, random_state=13, total=   3.1s\n",
      "[CV] max_depth=20, min_samples_split=2, n_estimators=150, random_state=13 \n",
      "[CV]  max_depth=20, min_samples_split=2, n_estimators=150, random_state=13, total=   3.2s\n",
      "[CV] max_depth=20, min_samples_split=2, n_estimators=150, random_state=13 \n",
      "[CV]  max_depth=20, min_samples_split=2, n_estimators=150, random_state=13, total=   3.3s\n",
      "[CV] max_depth=20, min_samples_split=2, n_estimators=150, random_state=13 \n",
      "[CV]  max_depth=20, min_samples_split=2, n_estimators=150, random_state=13, total=   3.3s\n",
      "[CV] max_depth=20, min_samples_split=2, n_estimators=150, random_state=42 \n",
      "[CV]  max_depth=20, min_samples_split=2, n_estimators=150, random_state=42, total=   3.4s\n",
      "[CV] max_depth=20, min_samples_split=2, n_estimators=150, random_state=42 \n",
      "[CV]  max_depth=20, min_samples_split=2, n_estimators=150, random_state=42, total=   3.1s\n",
      "[CV] max_depth=20, min_samples_split=2, n_estimators=150, random_state=42 \n",
      "[CV]  max_depth=20, min_samples_split=2, n_estimators=150, random_state=42, total=   3.2s\n",
      "[CV] max_depth=20, min_samples_split=2, n_estimators=150, random_state=42 \n",
      "[CV]  max_depth=20, min_samples_split=2, n_estimators=150, random_state=42, total=   3.1s\n",
      "[CV] max_depth=20, min_samples_split=2, n_estimators=150, random_state=42 \n",
      "[CV]  max_depth=20, min_samples_split=2, n_estimators=150, random_state=42, total=   3.3s\n",
      "[CV] max_depth=20, min_samples_split=4, n_estimators=100, random_state=10 \n",
      "[CV]  max_depth=20, min_samples_split=4, n_estimators=100, random_state=10, total=   2.0s\n",
      "[CV] max_depth=20, min_samples_split=4, n_estimators=100, random_state=10 \n",
      "[CV]  max_depth=20, min_samples_split=4, n_estimators=100, random_state=10, total=   2.2s\n",
      "[CV] max_depth=20, min_samples_split=4, n_estimators=100, random_state=10 \n",
      "[CV]  max_depth=20, min_samples_split=4, n_estimators=100, random_state=10, total=   2.0s\n",
      "[CV] max_depth=20, min_samples_split=4, n_estimators=100, random_state=10 \n",
      "[CV]  max_depth=20, min_samples_split=4, n_estimators=100, random_state=10, total=   2.2s\n",
      "[CV] max_depth=20, min_samples_split=4, n_estimators=100, random_state=10 \n",
      "[CV]  max_depth=20, min_samples_split=4, n_estimators=100, random_state=10, total=   2.0s\n",
      "[CV] max_depth=20, min_samples_split=4, n_estimators=100, random_state=13 \n",
      "[CV]  max_depth=20, min_samples_split=4, n_estimators=100, random_state=13, total=   2.0s\n",
      "[CV] max_depth=20, min_samples_split=4, n_estimators=100, random_state=13 \n",
      "[CV]  max_depth=20, min_samples_split=4, n_estimators=100, random_state=13, total=   2.2s\n",
      "[CV] max_depth=20, min_samples_split=4, n_estimators=100, random_state=13 \n",
      "[CV]  max_depth=20, min_samples_split=4, n_estimators=100, random_state=13, total=   2.0s\n",
      "[CV] max_depth=20, min_samples_split=4, n_estimators=100, random_state=13 \n",
      "[CV]  max_depth=20, min_samples_split=4, n_estimators=100, random_state=13, total=   2.2s\n",
      "[CV] max_depth=20, min_samples_split=4, n_estimators=100, random_state=13 \n",
      "[CV]  max_depth=20, min_samples_split=4, n_estimators=100, random_state=13, total=   2.0s\n",
      "[CV] max_depth=20, min_samples_split=4, n_estimators=100, random_state=42 \n",
      "[CV]  max_depth=20, min_samples_split=4, n_estimators=100, random_state=42, total=   2.0s\n",
      "[CV] max_depth=20, min_samples_split=4, n_estimators=100, random_state=42 \n",
      "[CV]  max_depth=20, min_samples_split=4, n_estimators=100, random_state=42, total=   2.2s\n",
      "[CV] max_depth=20, min_samples_split=4, n_estimators=100, random_state=42 \n",
      "[CV]  max_depth=20, min_samples_split=4, n_estimators=100, random_state=42, total=   2.0s\n",
      "[CV] max_depth=20, min_samples_split=4, n_estimators=100, random_state=42 \n",
      "[CV]  max_depth=20, min_samples_split=4, n_estimators=100, random_state=42, total=   2.1s\n",
      "[CV] max_depth=20, min_samples_split=4, n_estimators=100, random_state=42 \n",
      "[CV]  max_depth=20, min_samples_split=4, n_estimators=100, random_state=42, total=   2.1s\n",
      "[CV] max_depth=20, min_samples_split=4, n_estimators=125, random_state=10 \n",
      "[CV]  max_depth=20, min_samples_split=4, n_estimators=125, random_state=10, total=   2.5s\n",
      "[CV] max_depth=20, min_samples_split=4, n_estimators=125, random_state=10 \n",
      "[CV]  max_depth=20, min_samples_split=4, n_estimators=125, random_state=10, total=   2.7s\n",
      "[CV] max_depth=20, min_samples_split=4, n_estimators=125, random_state=10 \n",
      "[CV]  max_depth=20, min_samples_split=4, n_estimators=125, random_state=10, total=   2.5s\n",
      "[CV] max_depth=20, min_samples_split=4, n_estimators=125, random_state=10 \n",
      "[CV]  max_depth=20, min_samples_split=4, n_estimators=125, random_state=10, total=   2.7s\n",
      "[CV] max_depth=20, min_samples_split=4, n_estimators=125, random_state=10 \n",
      "[CV]  max_depth=20, min_samples_split=4, n_estimators=125, random_state=10, total=   2.5s\n",
      "[CV] max_depth=20, min_samples_split=4, n_estimators=125, random_state=13 \n",
      "[CV]  max_depth=20, min_samples_split=4, n_estimators=125, random_state=13, total=   2.7s\n",
      "[CV] max_depth=20, min_samples_split=4, n_estimators=125, random_state=13 \n"
     ]
    },
    {
     "name": "stdout",
     "output_type": "stream",
     "text": [
      "[CV]  max_depth=20, min_samples_split=4, n_estimators=125, random_state=13, total=   2.5s\n",
      "[CV] max_depth=20, min_samples_split=4, n_estimators=125, random_state=13 \n",
      "[CV]  max_depth=20, min_samples_split=4, n_estimators=125, random_state=13, total=   2.7s\n",
      "[CV] max_depth=20, min_samples_split=4, n_estimators=125, random_state=13 \n",
      "[CV]  max_depth=20, min_samples_split=4, n_estimators=125, random_state=13, total=   2.6s\n",
      "[CV] max_depth=20, min_samples_split=4, n_estimators=125, random_state=13 \n",
      "[CV]  max_depth=20, min_samples_split=4, n_estimators=125, random_state=13, total=   2.7s\n",
      "[CV] max_depth=20, min_samples_split=4, n_estimators=125, random_state=42 \n",
      "[CV]  max_depth=20, min_samples_split=4, n_estimators=125, random_state=42, total=   2.5s\n",
      "[CV] max_depth=20, min_samples_split=4, n_estimators=125, random_state=42 \n",
      "[CV]  max_depth=20, min_samples_split=4, n_estimators=125, random_state=42, total=   2.7s\n",
      "[CV] max_depth=20, min_samples_split=4, n_estimators=125, random_state=42 \n",
      "[CV]  max_depth=20, min_samples_split=4, n_estimators=125, random_state=42, total=   2.5s\n",
      "[CV] max_depth=20, min_samples_split=4, n_estimators=125, random_state=42 \n",
      "[CV]  max_depth=20, min_samples_split=4, n_estimators=125, random_state=42, total=   2.7s\n",
      "[CV] max_depth=20, min_samples_split=4, n_estimators=125, random_state=42 \n",
      "[CV]  max_depth=20, min_samples_split=4, n_estimators=125, random_state=42, total=   2.5s\n",
      "[CV] max_depth=20, min_samples_split=4, n_estimators=150, random_state=10 \n",
      "[CV]  max_depth=20, min_samples_split=4, n_estimators=150, random_state=10, total=   3.2s\n",
      "[CV] max_depth=20, min_samples_split=4, n_estimators=150, random_state=10 \n",
      "[CV]  max_depth=20, min_samples_split=4, n_estimators=150, random_state=10, total=   3.0s\n",
      "[CV] max_depth=20, min_samples_split=4, n_estimators=150, random_state=10 \n",
      "[CV]  max_depth=20, min_samples_split=4, n_estimators=150, random_state=10, total=   3.2s\n",
      "[CV] max_depth=20, min_samples_split=4, n_estimators=150, random_state=10 \n",
      "[CV]  max_depth=20, min_samples_split=4, n_estimators=150, random_state=10, total=   3.2s\n",
      "[CV] max_depth=20, min_samples_split=4, n_estimators=150, random_state=10 \n",
      "[CV]  max_depth=20, min_samples_split=4, n_estimators=150, random_state=10, total=   3.0s\n",
      "[CV] max_depth=20, min_samples_split=4, n_estimators=150, random_state=13 \n",
      "[CV]  max_depth=20, min_samples_split=4, n_estimators=150, random_state=13, total=   3.2s\n",
      "[CV] max_depth=20, min_samples_split=4, n_estimators=150, random_state=13 \n",
      "[CV]  max_depth=20, min_samples_split=4, n_estimators=150, random_state=13, total=   3.1s\n",
      "[CV] max_depth=20, min_samples_split=4, n_estimators=150, random_state=13 \n",
      "[CV]  max_depth=20, min_samples_split=4, n_estimators=150, random_state=13, total=   3.5s\n",
      "[CV] max_depth=20, min_samples_split=4, n_estimators=150, random_state=13 \n",
      "[CV]  max_depth=20, min_samples_split=4, n_estimators=150, random_state=13, total=   3.2s\n",
      "[CV] max_depth=20, min_samples_split=4, n_estimators=150, random_state=13 \n",
      "[CV]  max_depth=20, min_samples_split=4, n_estimators=150, random_state=13, total=   3.0s\n",
      "[CV] max_depth=20, min_samples_split=4, n_estimators=150, random_state=42 \n",
      "[CV]  max_depth=20, min_samples_split=4, n_estimators=150, random_state=42, total=   3.2s\n",
      "[CV] max_depth=20, min_samples_split=4, n_estimators=150, random_state=42 \n",
      "[CV]  max_depth=20, min_samples_split=4, n_estimators=150, random_state=42, total=   3.0s\n",
      "[CV] max_depth=20, min_samples_split=4, n_estimators=150, random_state=42 \n",
      "[CV]  max_depth=20, min_samples_split=4, n_estimators=150, random_state=42, total=   3.3s\n",
      "[CV] max_depth=20, min_samples_split=4, n_estimators=150, random_state=42 \n",
      "[CV]  max_depth=20, min_samples_split=4, n_estimators=150, random_state=42, total=   3.1s\n",
      "[CV] max_depth=20, min_samples_split=4, n_estimators=150, random_state=42 \n",
      "[CV]  max_depth=20, min_samples_split=4, n_estimators=150, random_state=42, total=   3.2s\n",
      "[CV] max_depth=20, min_samples_split=7, n_estimators=100, random_state=10 \n",
      "[CV]  max_depth=20, min_samples_split=7, n_estimators=100, random_state=10, total=   2.0s\n",
      "[CV] max_depth=20, min_samples_split=7, n_estimators=100, random_state=10 \n",
      "[CV]  max_depth=20, min_samples_split=7, n_estimators=100, random_state=10, total=   2.1s\n",
      "[CV] max_depth=20, min_samples_split=7, n_estimators=100, random_state=10 \n",
      "[CV]  max_depth=20, min_samples_split=7, n_estimators=100, random_state=10, total=   1.9s\n",
      "[CV] max_depth=20, min_samples_split=7, n_estimators=100, random_state=10 \n",
      "[CV]  max_depth=20, min_samples_split=7, n_estimators=100, random_state=10, total=   2.1s\n",
      "[CV] max_depth=20, min_samples_split=7, n_estimators=100, random_state=10 \n",
      "[CV]  max_depth=20, min_samples_split=7, n_estimators=100, random_state=10, total=   1.9s\n",
      "[CV] max_depth=20, min_samples_split=7, n_estimators=100, random_state=13 \n",
      "[CV]  max_depth=20, min_samples_split=7, n_estimators=100, random_state=13, total=   2.0s\n",
      "[CV] max_depth=20, min_samples_split=7, n_estimators=100, random_state=13 \n",
      "[CV]  max_depth=20, min_samples_split=7, n_estimators=100, random_state=13, total=   2.1s\n",
      "[CV] max_depth=20, min_samples_split=7, n_estimators=100, random_state=13 \n",
      "[CV]  max_depth=20, min_samples_split=7, n_estimators=100, random_state=13, total=   1.9s\n",
      "[CV] max_depth=20, min_samples_split=7, n_estimators=100, random_state=13 \n",
      "[CV]  max_depth=20, min_samples_split=7, n_estimators=100, random_state=13, total=   2.0s\n",
      "[CV] max_depth=20, min_samples_split=7, n_estimators=100, random_state=13 \n",
      "[CV]  max_depth=20, min_samples_split=7, n_estimators=100, random_state=13, total=   2.1s\n",
      "[CV] max_depth=20, min_samples_split=7, n_estimators=100, random_state=42 \n",
      "[CV]  max_depth=20, min_samples_split=7, n_estimators=100, random_state=42, total=   1.9s\n",
      "[CV] max_depth=20, min_samples_split=7, n_estimators=100, random_state=42 \n",
      "[CV]  max_depth=20, min_samples_split=7, n_estimators=100, random_state=42, total=   2.1s\n",
      "[CV] max_depth=20, min_samples_split=7, n_estimators=100, random_state=42 \n",
      "[CV]  max_depth=20, min_samples_split=7, n_estimators=100, random_state=42, total=   2.0s\n",
      "[CV] max_depth=20, min_samples_split=7, n_estimators=100, random_state=42 \n",
      "[CV]  max_depth=20, min_samples_split=7, n_estimators=100, random_state=42, total=   2.0s\n",
      "[CV] max_depth=20, min_samples_split=7, n_estimators=100, random_state=42 \n",
      "[CV]  max_depth=20, min_samples_split=7, n_estimators=100, random_state=42, total=   2.1s\n",
      "[CV] max_depth=20, min_samples_split=7, n_estimators=125, random_state=10 \n",
      "[CV]  max_depth=20, min_samples_split=7, n_estimators=125, random_state=10, total=   2.4s\n",
      "[CV] max_depth=20, min_samples_split=7, n_estimators=125, random_state=10 \n",
      "[CV]  max_depth=20, min_samples_split=7, n_estimators=125, random_state=10, total=   2.6s\n",
      "[CV] max_depth=20, min_samples_split=7, n_estimators=125, random_state=10 \n",
      "[CV]  max_depth=20, min_samples_split=7, n_estimators=125, random_state=10, total=   2.4s\n",
      "[CV] max_depth=20, min_samples_split=7, n_estimators=125, random_state=10 \n",
      "[CV]  max_depth=20, min_samples_split=7, n_estimators=125, random_state=10, total=   2.6s\n",
      "[CV] max_depth=20, min_samples_split=7, n_estimators=125, random_state=10 \n",
      "[CV]  max_depth=20, min_samples_split=7, n_estimators=125, random_state=10, total=   2.4s\n",
      "[CV] max_depth=20, min_samples_split=7, n_estimators=125, random_state=13 \n",
      "[CV]  max_depth=20, min_samples_split=7, n_estimators=125, random_state=13, total=   2.6s\n",
      "[CV] max_depth=20, min_samples_split=7, n_estimators=125, random_state=13 \n",
      "[CV]  max_depth=20, min_samples_split=7, n_estimators=125, random_state=13, total=   2.5s\n",
      "[CV] max_depth=20, min_samples_split=7, n_estimators=125, random_state=13 \n",
      "[CV]  max_depth=20, min_samples_split=7, n_estimators=125, random_state=13, total=   2.5s\n",
      "[CV] max_depth=20, min_samples_split=7, n_estimators=125, random_state=13 \n",
      "[CV]  max_depth=20, min_samples_split=7, n_estimators=125, random_state=13, total=   2.6s\n",
      "[CV] max_depth=20, min_samples_split=7, n_estimators=125, random_state=13 \n",
      "[CV]  max_depth=20, min_samples_split=7, n_estimators=125, random_state=13, total=   2.5s\n",
      "[CV] max_depth=20, min_samples_split=7, n_estimators=125, random_state=42 \n",
      "[CV]  max_depth=20, min_samples_split=7, n_estimators=125, random_state=42, total=   2.6s\n",
      "[CV] max_depth=20, min_samples_split=7, n_estimators=125, random_state=42 \n"
     ]
    },
    {
     "name": "stdout",
     "output_type": "stream",
     "text": [
      "[CV]  max_depth=20, min_samples_split=7, n_estimators=125, random_state=42, total=   2.4s\n",
      "[CV] max_depth=20, min_samples_split=7, n_estimators=125, random_state=42 \n",
      "[CV]  max_depth=20, min_samples_split=7, n_estimators=125, random_state=42, total=   2.6s\n",
      "[CV] max_depth=20, min_samples_split=7, n_estimators=125, random_state=42 \n",
      "[CV]  max_depth=20, min_samples_split=7, n_estimators=125, random_state=42, total=   2.5s\n",
      "[CV] max_depth=20, min_samples_split=7, n_estimators=125, random_state=42 \n",
      "[CV]  max_depth=20, min_samples_split=7, n_estimators=125, random_state=42, total=   2.6s\n",
      "[CV] max_depth=20, min_samples_split=7, n_estimators=150, random_state=10 \n",
      "[CV]  max_depth=20, min_samples_split=7, n_estimators=150, random_state=10, total=   2.9s\n",
      "[CV] max_depth=20, min_samples_split=7, n_estimators=150, random_state=10 \n",
      "[CV]  max_depth=20, min_samples_split=7, n_estimators=150, random_state=10, total=   3.1s\n",
      "[CV] max_depth=20, min_samples_split=7, n_estimators=150, random_state=10 \n",
      "[CV]  max_depth=20, min_samples_split=7, n_estimators=150, random_state=10, total=   3.1s\n",
      "[CV] max_depth=20, min_samples_split=7, n_estimators=150, random_state=10 \n",
      "[CV]  max_depth=20, min_samples_split=7, n_estimators=150, random_state=10, total=   2.9s\n",
      "[CV] max_depth=20, min_samples_split=7, n_estimators=150, random_state=10 \n",
      "[CV]  max_depth=20, min_samples_split=7, n_estimators=150, random_state=10, total=   3.1s\n",
      "[CV] max_depth=20, min_samples_split=7, n_estimators=150, random_state=13 \n",
      "[CV]  max_depth=20, min_samples_split=7, n_estimators=150, random_state=13, total=   3.0s\n",
      "[CV] max_depth=20, min_samples_split=7, n_estimators=150, random_state=13 \n",
      "[CV]  max_depth=20, min_samples_split=7, n_estimators=150, random_state=13, total=   3.1s\n",
      "[CV] max_depth=20, min_samples_split=7, n_estimators=150, random_state=13 \n",
      "[CV]  max_depth=20, min_samples_split=7, n_estimators=150, random_state=13, total=   2.9s\n",
      "[CV] max_depth=20, min_samples_split=7, n_estimators=150, random_state=13 \n",
      "[CV]  max_depth=20, min_samples_split=7, n_estimators=150, random_state=13, total=   3.1s\n",
      "[CV] max_depth=20, min_samples_split=7, n_estimators=150, random_state=13 \n",
      "[CV]  max_depth=20, min_samples_split=7, n_estimators=150, random_state=13, total=   3.0s\n",
      "[CV] max_depth=20, min_samples_split=7, n_estimators=150, random_state=42 \n",
      "[CV]  max_depth=20, min_samples_split=7, n_estimators=150, random_state=42, total=   3.0s\n",
      "[CV] max_depth=20, min_samples_split=7, n_estimators=150, random_state=42 \n",
      "[CV]  max_depth=20, min_samples_split=7, n_estimators=150, random_state=42, total=   3.1s\n",
      "[CV] max_depth=20, min_samples_split=7, n_estimators=150, random_state=42 \n",
      "[CV]  max_depth=20, min_samples_split=7, n_estimators=150, random_state=42, total=   2.9s\n",
      "[CV] max_depth=20, min_samples_split=7, n_estimators=150, random_state=42 \n",
      "[CV]  max_depth=20, min_samples_split=7, n_estimators=150, random_state=42, total=   3.1s\n",
      "[CV] max_depth=20, min_samples_split=7, n_estimators=150, random_state=42 \n",
      "[CV]  max_depth=20, min_samples_split=7, n_estimators=150, random_state=42, total=   3.2s\n",
      "[CV] max_depth=50, min_samples_split=2, n_estimators=100, random_state=10 \n",
      "[CV]  max_depth=50, min_samples_split=2, n_estimators=100, random_state=10, total=   2.3s\n",
      "[CV] max_depth=50, min_samples_split=2, n_estimators=100, random_state=10 \n",
      "[CV]  max_depth=50, min_samples_split=2, n_estimators=100, random_state=10, total=   2.1s\n",
      "[CV] max_depth=50, min_samples_split=2, n_estimators=100, random_state=10 \n",
      "[CV]  max_depth=50, min_samples_split=2, n_estimators=100, random_state=10, total=   2.3s\n",
      "[CV] max_depth=50, min_samples_split=2, n_estimators=100, random_state=10 \n",
      "[CV]  max_depth=50, min_samples_split=2, n_estimators=100, random_state=10, total=   2.1s\n",
      "[CV] max_depth=50, min_samples_split=2, n_estimators=100, random_state=10 \n",
      "[CV]  max_depth=50, min_samples_split=2, n_estimators=100, random_state=10, total=   2.1s\n",
      "[CV] max_depth=50, min_samples_split=2, n_estimators=100, random_state=13 \n",
      "[CV]  max_depth=50, min_samples_split=2, n_estimators=100, random_state=13, total=   2.3s\n",
      "[CV] max_depth=50, min_samples_split=2, n_estimators=100, random_state=13 \n",
      "[CV]  max_depth=50, min_samples_split=2, n_estimators=100, random_state=13, total=   2.1s\n",
      "[CV] max_depth=50, min_samples_split=2, n_estimators=100, random_state=13 \n",
      "[CV]  max_depth=50, min_samples_split=2, n_estimators=100, random_state=13, total=   2.3s\n",
      "[CV] max_depth=50, min_samples_split=2, n_estimators=100, random_state=13 \n",
      "[CV]  max_depth=50, min_samples_split=2, n_estimators=100, random_state=13, total=   2.1s\n",
      "[CV] max_depth=50, min_samples_split=2, n_estimators=100, random_state=13 \n",
      "[CV]  max_depth=50, min_samples_split=2, n_estimators=100, random_state=13, total=   2.1s\n",
      "[CV] max_depth=50, min_samples_split=2, n_estimators=100, random_state=42 \n",
      "[CV]  max_depth=50, min_samples_split=2, n_estimators=100, random_state=42, total=   2.3s\n",
      "[CV] max_depth=50, min_samples_split=2, n_estimators=100, random_state=42 \n",
      "[CV]  max_depth=50, min_samples_split=2, n_estimators=100, random_state=42, total=   2.1s\n",
      "[CV] max_depth=50, min_samples_split=2, n_estimators=100, random_state=42 \n",
      "[CV]  max_depth=50, min_samples_split=2, n_estimators=100, random_state=42, total=   2.3s\n",
      "[CV] max_depth=50, min_samples_split=2, n_estimators=100, random_state=42 \n",
      "[CV]  max_depth=50, min_samples_split=2, n_estimators=100, random_state=42, total=   2.1s\n",
      "[CV] max_depth=50, min_samples_split=2, n_estimators=100, random_state=42 \n",
      "[CV]  max_depth=50, min_samples_split=2, n_estimators=100, random_state=42, total=   2.3s\n",
      "[CV] max_depth=50, min_samples_split=2, n_estimators=125, random_state=10 \n",
      "[CV]  max_depth=50, min_samples_split=2, n_estimators=125, random_state=10, total=   2.6s\n",
      "[CV] max_depth=50, min_samples_split=2, n_estimators=125, random_state=10 \n",
      "[CV]  max_depth=50, min_samples_split=2, n_estimators=125, random_state=10, total=   2.8s\n",
      "[CV] max_depth=50, min_samples_split=2, n_estimators=125, random_state=10 \n",
      "[CV]  max_depth=50, min_samples_split=2, n_estimators=125, random_state=10, total=   2.6s\n",
      "[CV] max_depth=50, min_samples_split=2, n_estimators=125, random_state=10 \n",
      "[CV]  max_depth=50, min_samples_split=2, n_estimators=125, random_state=10, total=   2.8s\n",
      "[CV] max_depth=50, min_samples_split=2, n_estimators=125, random_state=10 \n",
      "[CV]  max_depth=50, min_samples_split=2, n_estimators=125, random_state=10, total=   2.6s\n",
      "[CV] max_depth=50, min_samples_split=2, n_estimators=125, random_state=13 \n",
      "[CV]  max_depth=50, min_samples_split=2, n_estimators=125, random_state=13, total=   2.8s\n",
      "[CV] max_depth=50, min_samples_split=2, n_estimators=125, random_state=13 \n",
      "[CV]  max_depth=50, min_samples_split=2, n_estimators=125, random_state=13, total=   2.7s\n",
      "[CV] max_depth=50, min_samples_split=2, n_estimators=125, random_state=13 \n",
      "[CV]  max_depth=50, min_samples_split=2, n_estimators=125, random_state=13, total=   2.8s\n",
      "[CV] max_depth=50, min_samples_split=2, n_estimators=125, random_state=13 \n",
      "[CV]  max_depth=50, min_samples_split=2, n_estimators=125, random_state=13, total=   2.7s\n",
      "[CV] max_depth=50, min_samples_split=2, n_estimators=125, random_state=13 \n",
      "[CV]  max_depth=50, min_samples_split=2, n_estimators=125, random_state=13, total=   2.8s\n",
      "[CV] max_depth=50, min_samples_split=2, n_estimators=125, random_state=42 \n",
      "[CV]  max_depth=50, min_samples_split=2, n_estimators=125, random_state=42, total=   2.7s\n",
      "[CV] max_depth=50, min_samples_split=2, n_estimators=125, random_state=42 \n",
      "[CV]  max_depth=50, min_samples_split=2, n_estimators=125, random_state=42, total=   2.8s\n",
      "[CV] max_depth=50, min_samples_split=2, n_estimators=125, random_state=42 \n",
      "[CV]  max_depth=50, min_samples_split=2, n_estimators=125, random_state=42, total=   2.7s\n",
      "[CV] max_depth=50, min_samples_split=2, n_estimators=125, random_state=42 \n",
      "[CV]  max_depth=50, min_samples_split=2, n_estimators=125, random_state=42, total=   2.8s\n",
      "[CV] max_depth=50, min_samples_split=2, n_estimators=125, random_state=42 \n",
      "[CV]  max_depth=50, min_samples_split=2, n_estimators=125, random_state=42, total=   2.6s\n",
      "[CV] max_depth=50, min_samples_split=2, n_estimators=150, random_state=10 \n",
      "[CV]  max_depth=50, min_samples_split=2, n_estimators=150, random_state=10, total=   3.3s\n",
      "[CV] max_depth=50, min_samples_split=2, n_estimators=150, random_state=10 \n"
     ]
    },
    {
     "name": "stdout",
     "output_type": "stream",
     "text": [
      "[CV]  max_depth=50, min_samples_split=2, n_estimators=150, random_state=10, total=   3.2s\n",
      "[CV] max_depth=50, min_samples_split=2, n_estimators=150, random_state=10 \n",
      "[CV]  max_depth=50, min_samples_split=2, n_estimators=150, random_state=10, total=   3.3s\n",
      "[CV] max_depth=50, min_samples_split=2, n_estimators=150, random_state=10 \n",
      "[CV]  max_depth=50, min_samples_split=2, n_estimators=150, random_state=10, total=   3.3s\n",
      "[CV] max_depth=50, min_samples_split=2, n_estimators=150, random_state=10 \n",
      "[CV]  max_depth=50, min_samples_split=2, n_estimators=150, random_state=10, total=   3.1s\n",
      "[CV] max_depth=50, min_samples_split=2, n_estimators=150, random_state=13 \n",
      "[CV]  max_depth=50, min_samples_split=2, n_estimators=150, random_state=13, total=   3.4s\n",
      "[CV] max_depth=50, min_samples_split=2, n_estimators=150, random_state=13 \n",
      "[CV]  max_depth=50, min_samples_split=2, n_estimators=150, random_state=13, total=   3.4s\n",
      "[CV] max_depth=50, min_samples_split=2, n_estimators=150, random_state=13 \n",
      "[CV]  max_depth=50, min_samples_split=2, n_estimators=150, random_state=13, total=   3.2s\n",
      "[CV] max_depth=50, min_samples_split=2, n_estimators=150, random_state=13 \n",
      "[CV]  max_depth=50, min_samples_split=2, n_estimators=150, random_state=13, total=   3.4s\n",
      "[CV] max_depth=50, min_samples_split=2, n_estimators=150, random_state=13 \n",
      "[CV]  max_depth=50, min_samples_split=2, n_estimators=150, random_state=13, total=   3.2s\n",
      "[CV] max_depth=50, min_samples_split=2, n_estimators=150, random_state=42 \n",
      "[CV]  max_depth=50, min_samples_split=2, n_estimators=150, random_state=42, total=   3.4s\n",
      "[CV] max_depth=50, min_samples_split=2, n_estimators=150, random_state=42 \n",
      "[CV]  max_depth=50, min_samples_split=2, n_estimators=150, random_state=42, total=   3.3s\n",
      "[CV] max_depth=50, min_samples_split=2, n_estimators=150, random_state=42 \n",
      "[CV]  max_depth=50, min_samples_split=2, n_estimators=150, random_state=42, total=   3.1s\n",
      "[CV] max_depth=50, min_samples_split=2, n_estimators=150, random_state=42 \n",
      "[CV]  max_depth=50, min_samples_split=2, n_estimators=150, random_state=42, total=   3.3s\n",
      "[CV] max_depth=50, min_samples_split=2, n_estimators=150, random_state=42 \n",
      "[CV]  max_depth=50, min_samples_split=2, n_estimators=150, random_state=42, total=   3.1s\n",
      "[CV] max_depth=50, min_samples_split=4, n_estimators=100, random_state=10 \n",
      "[CV]  max_depth=50, min_samples_split=4, n_estimators=100, random_state=10, total=   2.2s\n",
      "[CV] max_depth=50, min_samples_split=4, n_estimators=100, random_state=10 \n",
      "[CV]  max_depth=50, min_samples_split=4, n_estimators=100, random_state=10, total=   2.0s\n",
      "[CV] max_depth=50, min_samples_split=4, n_estimators=100, random_state=10 \n",
      "[CV]  max_depth=50, min_samples_split=4, n_estimators=100, random_state=10, total=   2.2s\n",
      "[CV] max_depth=50, min_samples_split=4, n_estimators=100, random_state=10 \n",
      "[CV]  max_depth=50, min_samples_split=4, n_estimators=100, random_state=10, total=   2.1s\n",
      "[CV] max_depth=50, min_samples_split=4, n_estimators=100, random_state=10 \n",
      "[CV]  max_depth=50, min_samples_split=4, n_estimators=100, random_state=10, total=   2.0s\n",
      "[CV] max_depth=50, min_samples_split=4, n_estimators=100, random_state=13 \n",
      "[CV]  max_depth=50, min_samples_split=4, n_estimators=100, random_state=13, total=   2.2s\n",
      "[CV] max_depth=50, min_samples_split=4, n_estimators=100, random_state=13 \n",
      "[CV]  max_depth=50, min_samples_split=4, n_estimators=100, random_state=13, total=   2.1s\n",
      "[CV] max_depth=50, min_samples_split=4, n_estimators=100, random_state=13 \n",
      "[CV]  max_depth=50, min_samples_split=4, n_estimators=100, random_state=13, total=   2.2s\n",
      "[CV] max_depth=50, min_samples_split=4, n_estimators=100, random_state=13 \n",
      "[CV]  max_depth=50, min_samples_split=4, n_estimators=100, random_state=13, total=   2.1s\n",
      "[CV] max_depth=50, min_samples_split=4, n_estimators=100, random_state=13 \n",
      "[CV]  max_depth=50, min_samples_split=4, n_estimators=100, random_state=13, total=   2.1s\n",
      "[CV] max_depth=50, min_samples_split=4, n_estimators=100, random_state=42 \n",
      "[CV]  max_depth=50, min_samples_split=4, n_estimators=100, random_state=42, total=   2.2s\n",
      "[CV] max_depth=50, min_samples_split=4, n_estimators=100, random_state=42 \n",
      "[CV]  max_depth=50, min_samples_split=4, n_estimators=100, random_state=42, total=   2.0s\n",
      "[CV] max_depth=50, min_samples_split=4, n_estimators=100, random_state=42 \n",
      "[CV]  max_depth=50, min_samples_split=4, n_estimators=100, random_state=42, total=   2.2s\n",
      "[CV] max_depth=50, min_samples_split=4, n_estimators=100, random_state=42 \n",
      "[CV]  max_depth=50, min_samples_split=4, n_estimators=100, random_state=42, total=   2.1s\n",
      "[CV] max_depth=50, min_samples_split=4, n_estimators=100, random_state=42 \n",
      "[CV]  max_depth=50, min_samples_split=4, n_estimators=100, random_state=42, total=   2.0s\n",
      "[CV] max_depth=50, min_samples_split=4, n_estimators=125, random_state=10 \n",
      "[CV]  max_depth=50, min_samples_split=4, n_estimators=125, random_state=10, total=   2.7s\n",
      "[CV] max_depth=50, min_samples_split=4, n_estimators=125, random_state=10 \n",
      "[CV]  max_depth=50, min_samples_split=4, n_estimators=125, random_state=10, total=   2.6s\n",
      "[CV] max_depth=50, min_samples_split=4, n_estimators=125, random_state=10 \n",
      "[CV]  max_depth=50, min_samples_split=4, n_estimators=125, random_state=10, total=   2.7s\n",
      "[CV] max_depth=50, min_samples_split=4, n_estimators=125, random_state=10 \n",
      "[CV]  max_depth=50, min_samples_split=4, n_estimators=125, random_state=10, total=   2.6s\n",
      "[CV] max_depth=50, min_samples_split=4, n_estimators=125, random_state=10 \n",
      "[CV]  max_depth=50, min_samples_split=4, n_estimators=125, random_state=10, total=   2.7s\n",
      "[CV] max_depth=50, min_samples_split=4, n_estimators=125, random_state=13 \n",
      "[CV]  max_depth=50, min_samples_split=4, n_estimators=125, random_state=13, total=   2.6s\n",
      "[CV] max_depth=50, min_samples_split=4, n_estimators=125, random_state=13 \n",
      "[CV]  max_depth=50, min_samples_split=4, n_estimators=125, random_state=13, total=   2.8s\n",
      "[CV] max_depth=50, min_samples_split=4, n_estimators=125, random_state=13 \n",
      "[CV]  max_depth=50, min_samples_split=4, n_estimators=125, random_state=13, total=   2.6s\n",
      "[CV] max_depth=50, min_samples_split=4, n_estimators=125, random_state=13 \n",
      "[CV]  max_depth=50, min_samples_split=4, n_estimators=125, random_state=13, total=   2.8s\n",
      "[CV] max_depth=50, min_samples_split=4, n_estimators=125, random_state=13 \n",
      "[CV]  max_depth=50, min_samples_split=4, n_estimators=125, random_state=13, total=   2.6s\n",
      "[CV] max_depth=50, min_samples_split=4, n_estimators=125, random_state=42 \n",
      "[CV]  max_depth=50, min_samples_split=4, n_estimators=125, random_state=42, total=   2.7s\n",
      "[CV] max_depth=50, min_samples_split=4, n_estimators=125, random_state=42 \n",
      "[CV]  max_depth=50, min_samples_split=4, n_estimators=125, random_state=42, total=   2.5s\n",
      "[CV] max_depth=50, min_samples_split=4, n_estimators=125, random_state=42 \n",
      "[CV]  max_depth=50, min_samples_split=4, n_estimators=125, random_state=42, total=   2.7s\n",
      "[CV] max_depth=50, min_samples_split=4, n_estimators=125, random_state=42 \n",
      "[CV]  max_depth=50, min_samples_split=4, n_estimators=125, random_state=42, total=   2.6s\n",
      "[CV] max_depth=50, min_samples_split=4, n_estimators=125, random_state=42 \n",
      "[CV]  max_depth=50, min_samples_split=4, n_estimators=125, random_state=42, total=   2.7s\n",
      "[CV] max_depth=50, min_samples_split=4, n_estimators=150, random_state=10 \n",
      "[CV]  max_depth=50, min_samples_split=4, n_estimators=150, random_state=10, total=   3.0s\n",
      "[CV] max_depth=50, min_samples_split=4, n_estimators=150, random_state=10 \n",
      "[CV]  max_depth=50, min_samples_split=4, n_estimators=150, random_state=10, total=   3.3s\n",
      "[CV] max_depth=50, min_samples_split=4, n_estimators=150, random_state=10 \n",
      "[CV]  max_depth=50, min_samples_split=4, n_estimators=150, random_state=10, total=   3.2s\n",
      "[CV] max_depth=50, min_samples_split=4, n_estimators=150, random_state=10 \n",
      "[CV]  max_depth=50, min_samples_split=4, n_estimators=150, random_state=10, total=   3.1s\n",
      "[CV] max_depth=50, min_samples_split=4, n_estimators=150, random_state=10 \n",
      "[CV]  max_depth=50, min_samples_split=4, n_estimators=150, random_state=10, total=   3.2s\n",
      "[CV] max_depth=50, min_samples_split=4, n_estimators=150, random_state=13 \n",
      "[CV]  max_depth=50, min_samples_split=4, n_estimators=150, random_state=13, total=   3.1s\n",
      "[CV] max_depth=50, min_samples_split=4, n_estimators=150, random_state=13 \n"
     ]
    },
    {
     "name": "stdout",
     "output_type": "stream",
     "text": [
      "[CV]  max_depth=50, min_samples_split=4, n_estimators=150, random_state=13, total=   3.3s\n",
      "[CV] max_depth=50, min_samples_split=4, n_estimators=150, random_state=13 \n",
      "[CV]  max_depth=50, min_samples_split=4, n_estimators=150, random_state=13, total=   3.3s\n",
      "[CV] max_depth=50, min_samples_split=4, n_estimators=150, random_state=13 \n",
      "[CV]  max_depth=50, min_samples_split=4, n_estimators=150, random_state=13, total=   3.1s\n",
      "[CV] max_depth=50, min_samples_split=4, n_estimators=150, random_state=13 \n",
      "[CV]  max_depth=50, min_samples_split=4, n_estimators=150, random_state=13, total=   3.3s\n",
      "[CV] max_depth=50, min_samples_split=4, n_estimators=150, random_state=42 \n",
      "[CV]  max_depth=50, min_samples_split=4, n_estimators=150, random_state=42, total=   3.1s\n",
      "[CV] max_depth=50, min_samples_split=4, n_estimators=150, random_state=42 \n",
      "[CV]  max_depth=50, min_samples_split=4, n_estimators=150, random_state=42, total=   3.2s\n",
      "[CV] max_depth=50, min_samples_split=4, n_estimators=150, random_state=42 \n",
      "[CV]  max_depth=50, min_samples_split=4, n_estimators=150, random_state=42, total=   3.2s\n",
      "[CV] max_depth=50, min_samples_split=4, n_estimators=150, random_state=42 \n",
      "[CV]  max_depth=50, min_samples_split=4, n_estimators=150, random_state=42, total=   3.1s\n",
      "[CV] max_depth=50, min_samples_split=4, n_estimators=150, random_state=42 \n",
      "[CV]  max_depth=50, min_samples_split=4, n_estimators=150, random_state=42, total=   3.2s\n",
      "[CV] max_depth=50, min_samples_split=7, n_estimators=100, random_state=10 \n",
      "[CV]  max_depth=50, min_samples_split=7, n_estimators=100, random_state=10, total=   2.0s\n",
      "[CV] max_depth=50, min_samples_split=7, n_estimators=100, random_state=10 \n",
      "[CV]  max_depth=50, min_samples_split=7, n_estimators=100, random_state=10, total=   2.2s\n",
      "[CV] max_depth=50, min_samples_split=7, n_estimators=100, random_state=10 \n",
      "[CV]  max_depth=50, min_samples_split=7, n_estimators=100, random_state=10, total=   2.0s\n",
      "[CV] max_depth=50, min_samples_split=7, n_estimators=100, random_state=10 \n",
      "[CV]  max_depth=50, min_samples_split=7, n_estimators=100, random_state=10, total=   2.0s\n",
      "[CV] max_depth=50, min_samples_split=7, n_estimators=100, random_state=10 \n",
      "[CV]  max_depth=50, min_samples_split=7, n_estimators=100, random_state=10, total=   2.1s\n",
      "[CV] max_depth=50, min_samples_split=7, n_estimators=100, random_state=13 \n",
      "[CV]  max_depth=50, min_samples_split=7, n_estimators=100, random_state=13, total=   2.0s\n",
      "[CV] max_depth=50, min_samples_split=7, n_estimators=100, random_state=13 \n",
      "[CV]  max_depth=50, min_samples_split=7, n_estimators=100, random_state=13, total=   2.2s\n",
      "[CV] max_depth=50, min_samples_split=7, n_estimators=100, random_state=13 \n",
      "[CV]  max_depth=50, min_samples_split=7, n_estimators=100, random_state=13, total=   2.0s\n",
      "[CV] max_depth=50, min_samples_split=7, n_estimators=100, random_state=13 \n",
      "[CV]  max_depth=50, min_samples_split=7, n_estimators=100, random_state=13, total=   2.0s\n",
      "[CV] max_depth=50, min_samples_split=7, n_estimators=100, random_state=13 \n",
      "[CV]  max_depth=50, min_samples_split=7, n_estimators=100, random_state=13, total=   2.2s\n",
      "[CV] max_depth=50, min_samples_split=7, n_estimators=100, random_state=42 \n",
      "[CV]  max_depth=50, min_samples_split=7, n_estimators=100, random_state=42, total=   2.0s\n",
      "[CV] max_depth=50, min_samples_split=7, n_estimators=100, random_state=42 \n",
      "[CV]  max_depth=50, min_samples_split=7, n_estimators=100, random_state=42, total=   2.0s\n",
      "[CV] max_depth=50, min_samples_split=7, n_estimators=100, random_state=42 \n",
      "[CV]  max_depth=50, min_samples_split=7, n_estimators=100, random_state=42, total=   2.1s\n",
      "[CV] max_depth=50, min_samples_split=7, n_estimators=100, random_state=42 \n",
      "[CV]  max_depth=50, min_samples_split=7, n_estimators=100, random_state=42, total=   2.0s\n",
      "[CV] max_depth=50, min_samples_split=7, n_estimators=100, random_state=42 \n",
      "[CV]  max_depth=50, min_samples_split=7, n_estimators=100, random_state=42, total=   2.1s\n",
      "[CV] max_depth=50, min_samples_split=7, n_estimators=125, random_state=10 \n",
      "[CV]  max_depth=50, min_samples_split=7, n_estimators=125, random_state=10, total=   2.5s\n",
      "[CV] max_depth=50, min_samples_split=7, n_estimators=125, random_state=10 \n",
      "[CV]  max_depth=50, min_samples_split=7, n_estimators=125, random_state=10, total=   2.6s\n",
      "[CV] max_depth=50, min_samples_split=7, n_estimators=125, random_state=10 \n",
      "[CV]  max_depth=50, min_samples_split=7, n_estimators=125, random_state=10, total=   2.5s\n",
      "[CV] max_depth=50, min_samples_split=7, n_estimators=125, random_state=10 \n",
      "[CV]  max_depth=50, min_samples_split=7, n_estimators=125, random_state=10, total=   2.6s\n",
      "[CV] max_depth=50, min_samples_split=7, n_estimators=125, random_state=10 \n",
      "[CV]  max_depth=50, min_samples_split=7, n_estimators=125, random_state=10, total=   2.6s\n",
      "[CV] max_depth=50, min_samples_split=7, n_estimators=125, random_state=13 \n",
      "[CV]  max_depth=50, min_samples_split=7, n_estimators=125, random_state=13, total=   2.5s\n",
      "[CV] max_depth=50, min_samples_split=7, n_estimators=125, random_state=13 \n",
      "[CV]  max_depth=50, min_samples_split=7, n_estimators=125, random_state=13, total=   2.7s\n",
      "[CV] max_depth=50, min_samples_split=7, n_estimators=125, random_state=13 \n",
      "[CV]  max_depth=50, min_samples_split=7, n_estimators=125, random_state=13, total=   2.5s\n",
      "[CV] max_depth=50, min_samples_split=7, n_estimators=125, random_state=13 \n",
      "[CV]  max_depth=50, min_samples_split=7, n_estimators=125, random_state=13, total=   2.7s\n",
      "[CV] max_depth=50, min_samples_split=7, n_estimators=125, random_state=13 \n",
      "[CV]  max_depth=50, min_samples_split=7, n_estimators=125, random_state=13, total=   2.5s\n",
      "[CV] max_depth=50, min_samples_split=7, n_estimators=125, random_state=42 \n",
      "[CV]  max_depth=50, min_samples_split=7, n_estimators=125, random_state=42, total=   2.8s\n",
      "[CV] max_depth=50, min_samples_split=7, n_estimators=125, random_state=42 \n",
      "[CV]  max_depth=50, min_samples_split=7, n_estimators=125, random_state=42, total=   2.5s\n",
      "[CV] max_depth=50, min_samples_split=7, n_estimators=125, random_state=42 \n",
      "[CV]  max_depth=50, min_samples_split=7, n_estimators=125, random_state=42, total=   2.6s\n",
      "[CV] max_depth=50, min_samples_split=7, n_estimators=125, random_state=42 \n",
      "[CV]  max_depth=50, min_samples_split=7, n_estimators=125, random_state=42, total=   2.5s\n",
      "[CV] max_depth=50, min_samples_split=7, n_estimators=125, random_state=42 \n",
      "[CV]  max_depth=50, min_samples_split=7, n_estimators=125, random_state=42, total=   2.6s\n",
      "[CV] max_depth=50, min_samples_split=7, n_estimators=150, random_state=10 \n",
      "[CV]  max_depth=50, min_samples_split=7, n_estimators=150, random_state=10, total=   3.0s\n",
      "[CV] max_depth=50, min_samples_split=7, n_estimators=150, random_state=10 \n",
      "[CV]  max_depth=50, min_samples_split=7, n_estimators=150, random_state=10, total=   3.1s\n",
      "[CV] max_depth=50, min_samples_split=7, n_estimators=150, random_state=10 \n",
      "[CV]  max_depth=50, min_samples_split=7, n_estimators=150, random_state=10, total=   3.1s\n",
      "[CV] max_depth=50, min_samples_split=7, n_estimators=150, random_state=10 \n",
      "[CV]  max_depth=50, min_samples_split=7, n_estimators=150, random_state=10, total=   2.9s\n",
      "[CV] max_depth=50, min_samples_split=7, n_estimators=150, random_state=10 \n",
      "[CV]  max_depth=50, min_samples_split=7, n_estimators=150, random_state=10, total=   3.1s\n",
      "[CV] max_depth=50, min_samples_split=7, n_estimators=150, random_state=13 \n",
      "[CV]  max_depth=50, min_samples_split=7, n_estimators=150, random_state=13, total=   3.0s\n",
      "[CV] max_depth=50, min_samples_split=7, n_estimators=150, random_state=13 \n",
      "[CV]  max_depth=50, min_samples_split=7, n_estimators=150, random_state=13, total=   3.1s\n",
      "[CV] max_depth=50, min_samples_split=7, n_estimators=150, random_state=13 \n",
      "[CV]  max_depth=50, min_samples_split=7, n_estimators=150, random_state=13, total=   3.0s\n",
      "[CV] max_depth=50, min_samples_split=7, n_estimators=150, random_state=13 \n",
      "[CV]  max_depth=50, min_samples_split=7, n_estimators=150, random_state=13, total=   3.2s\n",
      "[CV] max_depth=50, min_samples_split=7, n_estimators=150, random_state=13 \n",
      "[CV]  max_depth=50, min_samples_split=7, n_estimators=150, random_state=13, total=   3.1s\n",
      "[CV] max_depth=50, min_samples_split=7, n_estimators=150, random_state=42 \n",
      "[CV]  max_depth=50, min_samples_split=7, n_estimators=150, random_state=42, total=   3.0s\n",
      "[CV] max_depth=50, min_samples_split=7, n_estimators=150, random_state=42 \n"
     ]
    },
    {
     "name": "stdout",
     "output_type": "stream",
     "text": [
      "[CV]  max_depth=50, min_samples_split=7, n_estimators=150, random_state=42, total=   3.2s\n",
      "[CV] max_depth=50, min_samples_split=7, n_estimators=150, random_state=42 \n",
      "[CV]  max_depth=50, min_samples_split=7, n_estimators=150, random_state=42, total=   3.0s\n",
      "[CV] max_depth=50, min_samples_split=7, n_estimators=150, random_state=42 \n",
      "[CV]  max_depth=50, min_samples_split=7, n_estimators=150, random_state=42, total=   3.1s\n",
      "[CV] max_depth=50, min_samples_split=7, n_estimators=150, random_state=42 \n",
      "[CV]  max_depth=50, min_samples_split=7, n_estimators=150, random_state=42, total=   2.9s\n"
     ]
    },
    {
     "name": "stderr",
     "output_type": "stream",
     "text": [
      "[Parallel(n_jobs=1)]: Done 405 out of 405 | elapsed: 16.0min finished\n"
     ]
    },
    {
     "data": {
      "text/plain": [
       "GridSearchCV(estimator=RandomForestClassifier(),\n",
       "             param_grid={'max_depth': [10, 20, 50],\n",
       "                         'min_samples_split': [2, 4, 7],\n",
       "                         'n_estimators': [100, 125, 150],\n",
       "                         'random_state': [10, 13, 42]},\n",
       "             scoring='accuracy', verbose=2)"
      ]
     },
     "execution_count": 202,
     "metadata": {},
     "output_type": "execute_result"
    }
   ],
   "source": [
    "params = { \"n_estimators\":[100,125,150],\n",
    "           \"random_state\":[10,13,42],\n",
    "           \"max_depth\": [10,20,50],\n",
    "           \"min_samples_split\" : [2,4,7]\n",
    "         }\n",
    "grid_out = GridSearchCV(RandomForestClassifier(),params,scoring=\"accuracy\",verbose=2)\n",
    "grid_out.fit(X_train,y_train)"
   ]
  },
  {
   "cell_type": "code",
   "execution_count": 203,
   "metadata": {},
   "outputs": [
    {
     "data": {
      "text/plain": [
       "0.8631393298059965"
      ]
     },
     "execution_count": 203,
     "metadata": {},
     "output_type": "execute_result"
    }
   ],
   "source": [
    "grid_out.best_score_"
   ]
  },
  {
   "cell_type": "code",
   "execution_count": 204,
   "metadata": {},
   "outputs": [
    {
     "data": {
      "text/plain": [
       "{'max_depth': 50,\n",
       " 'min_samples_split': 2,\n",
       " 'n_estimators': 150,\n",
       " 'random_state': 10}"
      ]
     },
     "execution_count": 204,
     "metadata": {},
     "output_type": "execute_result"
    }
   ],
   "source": [
    "grid_out.best_params_"
   ]
  },
  {
   "cell_type": "markdown",
   "metadata": {},
   "source": [
    "###  changing the model with grid_out Best parameters and running the model again"
   ]
  },
  {
   "cell_type": "code",
   "execution_count": null,
   "metadata": {},
   "outputs": [],
   "source": []
  }
 ],
 "metadata": {
  "kernelspec": {
   "display_name": "Python 3",
   "language": "python",
   "name": "python3"
  },
  "language_info": {
   "codemirror_mode": {
    "name": "ipython",
    "version": 3
   },
   "file_extension": ".py",
   "mimetype": "text/x-python",
   "name": "python",
   "nbconvert_exporter": "python",
   "pygments_lexer": "ipython3",
   "version": "3.8.3"
  }
 },
 "nbformat": 4,
 "nbformat_minor": 4
}
